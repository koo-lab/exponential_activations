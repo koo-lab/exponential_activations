{
 "cells": [
  {
   "cell_type": "markdown",
   "metadata": {},
   "source": [
    "## Generate comparison plots of sequence logos for different attribution methods\n",
    "\n",
    "\n",
    "Figures generated from this notebook include:\n",
    "- Fig. 2d\n",
    "- Extended Data Fig. 2c and 2d\n"
   ]
  },
  {
   "cell_type": "code",
   "execution_count": 1,
   "metadata": {},
   "outputs": [
    {
     "name": "stderr",
     "output_type": "stream",
     "text": [
      "Using TensorFlow backend.\n"
     ]
    }
   ],
   "source": [
    "import os\n",
    "import numpy as np\n",
    "from six.moves import cPickle\n",
    "import matplotlib.pyplot as plt\n",
    "import logomaker\n",
    "import pandas as pd\n",
    "from tfomics import utils\n",
    "import helper"
   ]
  },
  {
   "cell_type": "code",
   "execution_count": 2,
   "metadata": {},
   "outputs": [],
   "source": [
    "num_trials = 10\n",
    "model_names = ['cnn-local', 'cnn-dist']\n",
    "activations = ['relu', 'exponential', 'sigmoid', 'tanh', 'softplus', 'linear']\n",
    "\n",
    "results_path = os.path.join('../results', 'task3')\n",
    "params_path = os.path.join(results_path, 'model_params')\n",
    "save_path = os.path.join(results_path, 'scores')\n",
    "plot_path = utils.make_directory(results_path, 'attr_logo_plots')"
   ]
  },
  {
   "cell_type": "code",
   "execution_count": 5,
   "metadata": {},
   "outputs": [],
   "source": [
    "# load data\n",
    "data_path = '../data/synthetic_code_dataset.h5'\n",
    "data = helper.load_data(data_path)\n",
    "x_train, y_train, x_valid, y_valid, x_test, y_test = data\n",
    "\n",
    "# load ground truth values\n",
    "test_model = helper.load_synthetic_models(data_path, dataset='test')\n",
    "true_index = np.where(y_test[:,0] == 1)[0]\n",
    "X = x_test[true_index][:500]\n",
    "X_model = test_model[true_index][:500]"
   ]
  },
  {
   "cell_type": "code",
   "execution_count": 10,
   "metadata": {},
   "outputs": [
    {
     "name": "stdout",
     "output_type": "stream",
     "text": [
      "cnn-local_relu\n",
      "cnn-local_exponential\n",
      "cnn-local_sigmoid\n",
      "cnn-local_tanh\n",
      "cnn-local_softplus\n",
      "cnn-local_linear\n",
      "cnn-dist_relu\n",
      "cnn-dist_exponential\n",
      "cnn-dist_sigmoid\n",
      "cnn-dist_tanh\n",
      "cnn-dist_softplus\n",
      "cnn-dist_linear\n"
     ]
    }
   ],
   "source": [
    "score_names = ['saliency_scores']#, 'mut_scores', 'integrated_scores', 'shap_scores']\n",
    "activations = ['relu', 'exponential', 'sigmoid', 'tanh', 'softplus', 'linear']\n",
    "\n",
    "all_scores = {}\n",
    "for model_name in model_names:\n",
    "    for activation in activations:\n",
    "        name = model_name+'_'+activation\n",
    "        print(name)\n",
    "\n",
    "        file_path = os.path.join(save_path, name+'.pickle')\n",
    "        with open(file_path, 'rb') as f:            \n",
    "            saliency_scores = cPickle.load(f)\n",
    "            mut_scores = cPickle.load(f)\n",
    "            integrated_scores = cPickle.load(f)\n",
    "            shap_scores = cPickle.load(f)\n",
    "\n",
    "        model_scores = [saliency_scores[0]]#, mut_scores[0], integrated_scores[0], shap_scores[0]]\n",
    "        scores = []\n",
    "        for score, score_name in zip(model_scores, score_names):\n",
    "            if 'mut' in score_name:\n",
    "                scores.append(np.sqrt(np.sum(score**2, axis=-1, keepdims=True)) * X)\n",
    "            else:\n",
    "                scores.append(score * X)\n",
    "        all_scores[name] = np.array(scores)\n",
    "\n",
    "    "
   ]
  },
  {
   "cell_type": "code",
   "execution_count": 12,
   "metadata": {},
   "outputs": [],
   "source": [
    "# load attribution results  (generated from task3_plot_attr_score_comparisons.ipynb)\n",
    "file_path = os.path.join(results_path, 'task3_attr_results.pickle')\n",
    "with open(file_path, 'rb') as f:\n",
    "    results = cPickle.load(f)"
   ]
  },
  {
   "cell_type": "markdown",
   "metadata": {},
   "source": [
    "# compare attrribution maps for different activation functions"
   ]
  },
  {
   "cell_type": "markdown",
   "metadata": {},
   "source": [
    "### Compare cnn-dist attribution scores for different activations"
   ]
  },
  {
   "cell_type": "code",
   "execution_count": 16,
   "metadata": {
    "scrolled": true
   },
   "outputs": [
    {
     "name": "stdout",
     "output_type": "stream",
     "text": [
      "1\n",
      "3\n",
      "2\n",
      "8\n",
      "0\n",
      "4\n",
      "9\n",
      "6\n",
      "5\n",
      "7\n"
     ]
    }
   ],
   "source": [
    "sort_index = np.argsort(results['cnn-dist_exponential']['saliency_scores'][0])[::-1]\n",
    "\n",
    "names = ['Relu', 'Exp', 'Sigmoid', 'Tanh', 'Softplus', 'Linear']\n",
    "num_plots = 50\n",
    "for index in sort_index[:num_plots]:\n",
    "    print(index)\n",
    "    x = np.ones((len(activations),L,A))*X[index]\n",
    "    x_model = np.ones((len(activations),A,L))*X_model[index]\n",
    "\n",
    "    scores = []\n",
    "    scores.append(all_scores['cnn-dist_relu'][0,index,:,:])\n",
    "    scores.append(all_scores['cnn-dist_exponential'][0,index,:,:])\n",
    "    scores.append(all_scores['cnn-dist_sigmoid'][0,index,:,:])\n",
    "    scores.append(all_scores['cnn-dist_tanh'][0,index,:,:])\n",
    "    scores.append(all_scores['cnn-dist_softplus'][0,index,:,:])\n",
    "    scores.append(all_scores['cnn-dist_linear'][0,index,:,:])\n",
    "    scores = np.array(scores)\n",
    "    \n",
    "    roc_score, pr_score = helper.interpretability_performance(x, scores, x_model)\n",
    "   \n",
    "    fig = plt.figure(figsize=(25,10))\n",
    "    N, L, A = X.shape\n",
    "    for k in range(len(names)):\n",
    "        counts_df = pd.DataFrame(data=0.0, columns=list('ACGT'), index=list(range(L)))\n",
    "        for a in range(A):\n",
    "            for l in range(L):\n",
    "                counts_df.iloc[l,a] = scores[k,l,a]\n",
    "\n",
    "        ax = plt.subplot(len(names)+1,1,k+1)\n",
    "        logomaker.Logo(counts_df, ax=ax)\n",
    "        ax.yaxis.set_ticks_position('none')\n",
    "        ax.xaxis.set_ticks_position('none')\n",
    "        plt.xticks([])\n",
    "        plt.yticks([])\n",
    "        fig = plt.gcf()\n",
    "        plt.ylabel(names[k], fontsize=16)\n",
    "        ax2 = ax.twinx()\n",
    "        plt.ylabel(np.round(pr_score[k],4), fontsize=16)\n",
    "        plt.yticks([])\n",
    "\n",
    "    counts_df = pd.DataFrame(data=0.0, columns=list('ACGT'), index=list(range(L)))\n",
    "    w = X_model[index].T\n",
    "    I = np.log2(4) + np.sum(w * np.log2(w+1e-7), axis=1, keepdims=True)\n",
    "    logo = I*w\n",
    "    for a in range(A):\n",
    "        for l in range(L):\n",
    "            counts_df.iloc[l,a] = logo[l,a]\n",
    "\n",
    "    ax = plt.subplot(len(names)+1,1,len(names)+1)\n",
    "    logomaker.Logo(counts_df, ax=ax)\n",
    "    plt.ylabel('Truth', fontsize=16)\n",
    "    ax = plt.gca()\n",
    "    #ax.spines['right'].set_visible(False)\n",
    "    #ax.spines['top'].set_visible(False)\n",
    "    ax.yaxis.set_ticks_position('none')\n",
    "    ax.xaxis.set_ticks_position('none')\n",
    "    plt.xticks([])\n",
    "    plt.yticks([])\n",
    "\n",
    "    outfile = os.path.join(plot_path, 'task3_cnn-deep_logo_activations_'+str(index))\n",
    "    fig.savefig(outfile, format='pdf', dpi=200, bbox_inches='tight')\n",
    "    plt.close()\n",
    "    \n"
   ]
  },
  {
   "cell_type": "markdown",
   "metadata": {},
   "source": [
    "# compare attribution methods"
   ]
  },
  {
   "cell_type": "code",
   "execution_count": 21,
   "metadata": {},
   "outputs": [
    {
     "name": "stdout",
     "output_type": "stream",
     "text": [
      "cnn-local_relu\n",
      "cnn-local_exponential\n",
      "cnn-dist_relu\n",
      "cnn-dist_exponential\n"
     ]
    }
   ],
   "source": [
    "score_names = ['saliency_scores', 'mut_scores', 'integrated_scores', 'shap_scores']\n",
    "activations = ['relu', 'exponential']#, 'sigmoid', 'tanh', 'softplus', 'linear']\n",
    "\n",
    "all_scores = {}\n",
    "for model_name in model_names:\n",
    "    for activation in activations:\n",
    "        name = model_name+'_'+activation\n",
    "        print(name)\n",
    "\n",
    "        file_path = os.path.join(save_path, name+'.pickle')\n",
    "        with open(file_path, 'rb') as f:            \n",
    "            saliency_scores = cPickle.load(f)\n",
    "            mut_scores = cPickle.load(f)\n",
    "            integrated_scores = cPickle.load(f)\n",
    "            shap_scores = cPickle.load(f)\n",
    "\n",
    "        model_scores = [saliency_scores[0], mut_scores[0], integrated_scores[0], shap_scores[0]]\n",
    "        scores = []\n",
    "        for score, score_name in zip(model_scores, score_names):\n",
    "            if 'mut' in score_name:\n",
    "                scores.append(np.sqrt(np.sum(score**2, axis=-1, keepdims=True)) * X)\n",
    "            else:\n",
    "                scores.append(score * X)\n",
    "        all_scores[name] = np.array(scores)    "
   ]
  },
  {
   "cell_type": "code",
   "execution_count": 22,
   "metadata": {
    "scrolled": true
   },
   "outputs": [
    {
     "name": "stdout",
     "output_type": "stream",
     "text": [
      "6\n",
      "3\n",
      "15\n",
      "4\n",
      "7\n",
      "10\n",
      "13\n",
      "5\n",
      "14\n",
      "8\n",
      "1\n",
      "12\n",
      "17\n",
      "11\n",
      "16\n",
      "9\n",
      "18\n",
      "2\n",
      "0\n",
      "19\n"
     ]
    }
   ],
   "source": [
    "roc_score, pr_score = helper.interpretability_performance(X, all_scores['cnn-dist_exponential'][0], X_model)\n",
    "sort_index = np.argsort(roc_score)[::-1]\n",
    "\n",
    "names = ['\\nSaliency', '\\nMutagenesis', 'Integrated\\nGradients', '\\nDeepSHAP']\n",
    "\n",
    "N, L, A = x_test.shape\n",
    "for index in sort_index[:50]:\n",
    "    print(index)\n",
    "    x = np.ones((4,L,A))*X[index]\n",
    "    x_model = np.ones((4,A,L))*X_model[index]\n",
    "\n",
    "    scores = []\n",
    "    scores.append(all_scores['cnn-dist_exponential'][0,index,:,:])\n",
    "    scores.append(all_scores['cnn-dist_exponential'][1,index,:,:])\n",
    "    scores.append(all_scores['cnn-dist_exponential'][2,index,:,:])\n",
    "    scores.append(all_scores['cnn-dist_exponential'][3,index,:,:])\n",
    "    scores = np.array(scores)\n",
    "    \n",
    "    roc_score, pr_score = helper.interpretability_performance(x, scores, x_model)\n",
    "   \n",
    "    fig = plt.figure(figsize=(25,10))\n",
    "    # plot in silico mutagenesis for sequences with top predictions\n",
    "    N, L, A = X.shape\n",
    "    for k in range(4):\n",
    "        counts_df = pd.DataFrame(data=0.0, columns=list('ACGT'), index=list(range(L)))\n",
    "        for a in range(A):\n",
    "            for l in range(L):\n",
    "                counts_df.iloc[l,a] = scores[k,l,a]\n",
    "\n",
    "        ax = plt.subplot(5,1,k+1)\n",
    "        logomaker.Logo(counts_df, ax=ax)\n",
    "        ax.yaxis.set_ticks_position('none')\n",
    "        ax.xaxis.set_ticks_position('none')\n",
    "        plt.xticks([])\n",
    "        plt.yticks([])\n",
    "        fig = plt.gcf()\n",
    "        plt.ylabel(names[k], fontsize=16)\n",
    "        ax2 = ax.twinx()\n",
    "        plt.ylabel(np.round(pr_score[k],4), fontsize=16)\n",
    "        plt.yticks([])\n",
    "\n",
    "    counts_df = pd.DataFrame(data=0.0, columns=list('ACGT'), index=list(range(L)))\n",
    "    w = X_model[index].T\n",
    "    I = np.log2(4) + np.sum(w * np.log2(w+1e-7), axis=1, keepdims=True)\n",
    "    logo = I*w\n",
    "    for a in range(A):\n",
    "        for l in range(L):\n",
    "            counts_df.iloc[l,a] = logo[l,a]\n",
    "\n",
    "    ax = plt.subplot(5,1,5)\n",
    "    logomaker.Logo(counts_df, ax=ax)\n",
    "    plt.ylabel('Truth', fontsize=16)\n",
    "    ax = plt.gca()\n",
    "    #ax.spines['right'].set_visible(False)\n",
    "    #ax.spines['top'].set_visible(False)\n",
    "    ax.yaxis.set_ticks_position('none')\n",
    "    ax.xaxis.set_ticks_position('none')\n",
    "    plt.xticks([])\n",
    "    plt.yticks([])\n",
    "\n",
    "    outfile = os.path.join(plot_path, 'task3_cnn-dist_exp_methods_logo_'+str(index))\n",
    "    fig.savefig(outfile, format='pdf', dpi=200, bbox_inches='tight')\n",
    "    plt.close()\n",
    "    \n",
    "    \n",
    "    scores = []\n",
    "    scores.append(all_scores['cnn-dist_relu'][0,index,:,:])\n",
    "    scores.append(all_scores['cnn-dist_relu'][1,index,:,:])\n",
    "    scores.append(all_scores['cnn-dist_relu'][2,index,:,:])\n",
    "    scores.append(all_scores['cnn-dist_relu'][3,index,:,:])\n",
    "    scores = np.array(scores)\n",
    "    \n",
    "    roc_score, pr_score = helper.interpretability_performance(x, scores, x_model)\n",
    "   \n",
    "    fig = plt.figure(figsize=(25,10))\n",
    "    # plot in silico mutagenesis for sequences with top predictions\n",
    "    N, L, A = X.shape\n",
    "    for k in range(4):\n",
    "        counts_df = pd.DataFrame(data=0.0, columns=list('ACGT'), index=list(range(L)))\n",
    "        for a in range(A):\n",
    "            for l in range(L):\n",
    "                counts_df.iloc[l,a] = scores[k,l,a]\n",
    "\n",
    "        ax = plt.subplot(5,1,k+1)\n",
    "        logomaker.Logo(counts_df, ax=ax)\n",
    "        ax.yaxis.set_ticks_position('none')\n",
    "        ax.xaxis.set_ticks_position('none')\n",
    "        plt.xticks([])\n",
    "        plt.yticks([])\n",
    "        fig = plt.gcf()\n",
    "        plt.ylabel(names[k], fontsize=16)\n",
    "        ax2 = ax.twinx()\n",
    "        \n",
    "        plt.ylabel(np.round(pr_score[k],4), fontsize=16)\n",
    "        plt.yticks([])\n",
    "\n",
    "    counts_df = pd.DataFrame(data=0.0, columns=list('ACGT'), index=list(range(L)))\n",
    "    w = X_model[index].T\n",
    "    I = np.log2(4) + np.sum(w * np.log2(w+1e-7), axis=1, keepdims=True)\n",
    "    logo = I*w\n",
    "    for a in range(A):\n",
    "        for l in range(L):\n",
    "            counts_df.iloc[l,a] = logo[l,a]\n",
    "\n",
    "    ax = plt.subplot(5,1,5)\n",
    "    logomaker.Logo(counts_df, ax=ax)\n",
    "    plt.ylabel('Truth', fontsize=16)\n",
    "    ax = plt.gca()\n",
    "    #ax.spines['right'].set_visible(False)\n",
    "    #ax.spines['top'].set_visible(False)\n",
    "    ax.yaxis.set_ticks_position('none')\n",
    "    ax.xaxis.set_ticks_position('none')\n",
    "    plt.xticks([])\n",
    "    plt.yticks([])\n",
    "\n",
    "    outfile = os.path.join(plot_path, 'task3_cnn-dist_relu_methods_logo_'+str(index))\n",
    "    fig.savefig(outfile, format='pdf', dpi=200, bbox_inches='tight')\n",
    "    plt.close()\n",
    "    \n",
    "    \n"
   ]
  },
  {
   "cell_type": "code",
   "execution_count": null,
   "metadata": {},
   "outputs": [],
   "source": []
  }
 ],
 "metadata": {
  "kernelspec": {
   "display_name": "Python 3",
   "language": "python",
   "name": "python3"
  },
  "language_info": {
   "codemirror_mode": {
    "name": "ipython",
    "version": 3
   },
   "file_extension": ".py",
   "mimetype": "text/x-python",
   "name": "python",
   "nbconvert_exporter": "python",
   "pygments_lexer": "ipython3",
   "version": "3.7.0b3"
  }
 },
 "nbformat": 4,
 "nbformat_minor": 2
}
