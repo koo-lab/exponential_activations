{
 "cells": [
  {
   "cell_type": "code",
   "execution_count": null,
   "metadata": {},
   "outputs": [],
   "source": [
    "import os\n",
    "import numpy as np\n",
    "from six.moves import cPickle\n",
    "import matplotlib.pyplot as plt\n",
    "%matplotlib inline"
   ]
  },
  {
   "cell_type": "markdown",
   "metadata": {},
   "source": [
    "# performance"
   ]
  },
  {
   "cell_type": "code",
   "execution_count": null,
   "metadata": {},
   "outputs": [],
   "source": [
    "results_path = os.path.join('../results', 'task1')\n",
    "file_path = os.path.join(results_path, 'task1_filter_results_log.pickle')\n",
    "with open(file_path, 'rb') as f:\n",
    "    results = cPickle.load(f)"
   ]
  },
  {
   "cell_type": "code",
   "execution_count": null,
   "metadata": {},
   "outputs": [],
   "source": [
    "names = ['Log-Relu-l2', 'Log-Relu', 'Relu-l2', 'Relu']\n",
    "\n",
    "fig = plt.figure(figsize=(4,3))\n",
    "ax = plt.subplot(1,1,1)\n",
    "vals = []\n",
    "for name in results.keys():\n",
    "    vals.append(results[name]['match_fraction'])\n",
    "ax.boxplot(vals);\n",
    "ax.set_xticklabels([])\n",
    "plt.ylabel('Match fraction', fontsize=12)\n",
    "plt.yticks([0., .25, 0.5, 0.75, 1.0], fontsize=12)\n",
    "plt.xticks(range(1, len(names)+1), names, fontsize=12, rotation=45);\n",
    "\n",
    "outfile = os.path.join(results_path, 'task1_filter_match_log.pdf')\n",
    "fig.savefig(outfile, format='pdf', dpi=200, bbox_inches='tight')\n"
   ]
  },
  {
   "cell_type": "code",
   "execution_count": null,
   "metadata": {},
   "outputs": [],
   "source": []
  }
 ],
 "metadata": {
  "kernelspec": {
   "display_name": "Python 3",
   "language": "python",
   "name": "python3"
  },
  "language_info": {
   "codemirror_mode": {
    "name": "ipython",
    "version": 3
   },
   "file_extension": ".py",
   "mimetype": "text/x-python",
   "name": "python",
   "nbconvert_exporter": "python",
   "pygments_lexer": "ipython3",
   "version": "3.6.9"
  }
 },
 "nbformat": 4,
 "nbformat_minor": 2
}
