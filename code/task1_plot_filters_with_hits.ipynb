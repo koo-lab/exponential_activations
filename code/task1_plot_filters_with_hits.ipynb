{
 "cells": [
  {
   "cell_type": "markdown",
   "metadata": {},
   "source": [
    "## Replots 1st layer filters with y-axis labels that match a ground truth motif according to tomtom"
   ]
  },
  {
   "cell_type": "code",
   "execution_count": null,
   "metadata": {},
   "outputs": [],
   "source": [
    "import os, sys\n",
    "from six.moves import cPickle\n",
    "import numpy as np\n",
    "import pandas as pd\n",
    "import logomaker\n",
    "import helper\n",
    "from tfomics import utils, explain\n",
    "from tensorflow import keras\n",
    "from keras import backend as K\n",
    "import tensorflow.compat.v1.keras.backend as K1\n",
    "\n",
    "import matplotlib.pyplot as plt\n",
    "%matplotlib inline"
   ]
  },
  {
   "cell_type": "code",
   "execution_count": null,
   "metadata": {},
   "outputs": [],
   "source": [
    "\n",
    "arid3 = ['MA0151.1', 'MA0601.1', 'PB0001.1']\n",
    "cebpb = ['MA0466.1', 'MA0466.2']\n",
    "fosl1 = ['MA0477.1']\n",
    "gabpa = ['MA0062.1', 'MA0062.2']\n",
    "mafk = ['MA0496.1', 'MA0496.2']\n",
    "max1 = ['MA0058.1', 'MA0058.2', 'MA0058.3']\n",
    "mef2a = ['MA0052.1', 'MA0052.2', 'MA0052.3']\n",
    "nfyb = ['MA0502.1', 'MA0060.1', 'MA0060.2']\n",
    "sp1 = ['MA0079.1', 'MA0079.2', 'MA0079.3']\n",
    "srf = ['MA0083.1', 'MA0083.2', 'MA0083.3']\n",
    "stat1 = ['MA0137.1', 'MA0137.2', 'MA0137.3', 'MA0660.1', 'MA0773.1']\n",
    "yy1 = ['MA0095.1', 'MA0095.2']\n",
    "\n",
    "\n",
    "Gmeb1 = ['MA0615.1']\n",
    "\n",
    "motifs = [[''],arid3, cebpb, fosl1, gabpa, mafk, max1, mef2a, nfyb, sp1, srf, stat1, yy1]\n",
    "motifnames = [ '','Arid3', 'CEBPB', 'FOSL1', 'Gabpa', 'MAFK', 'MAX', 'MEF2A', 'NFYB', \n",
    "               'SP1', 'SRF', 'STAT1', 'YY1']\n"
   ]
  },
  {
   "cell_type": "code",
   "execution_count": null,
   "metadata": {},
   "outputs": [],
   "source": [
    "# load data\n",
    "data_path = '../data/synthetic_code_dataset.h5'\n",
    "data = helper.load_data(data_path)\n",
    "x_train, y_train, x_valid, y_valid, x_test, y_test = data"
   ]
  },
  {
   "cell_type": "code",
   "execution_count": null,
   "metadata": {},
   "outputs": [],
   "source": [
    "num_trials = 10\n",
    "model_names = ['cnn-deep', 'cnn-2', 'cnn-50']\n",
    "activations = ['relu', 'exponential', 'sigmoid', 'tanh', 'softplus', 'linear', 'elu']\n",
    "\n",
    "results_path = utils.make_directory('../results', 'task1')\n",
    "params_path = utils.make_directory(results_path, 'model_params')\n",
    "\n",
    "layer = 3\n",
    "threshold = 0.5\n",
    "window = 20\n",
    "num_cols = 8\n",
    "figsize = (30,10)\n",
    "size=32\n",
    "\n",
    "save_path = os.path.join(results_path, 'conv_filters')\n",
    "\n",
    "for model_name in model_names:\n",
    "    for activation in ['relu', 'exponential']:\n",
    "        for trial in range(num_trials):\n",
    "\n",
    "            # load model\n",
    "            model = helper.load_model(model_name, \n",
    "                                            activation=activation, \n",
    "                                            input_shape=200)\n",
    "            name = model_name+'_'+activation+'_'+str(trial)\n",
    "            print(name)\n",
    "\n",
    "            weights_path = os.path.join(params_path, name+'.hdf5')\n",
    "            model.load_weights(weights_path)\n",
    "\n",
    "            # save path\n",
    "            file_path = os.path.join(save_path, name, 'tomtom.tsv')\n",
    "            best_qvalues, best_match, min_qvalue, match_fraction, match_any  = helper.match_hits_to_ground_truth(file_path, motifs, size)\n",
    "\n",
    "            intermediate = keras.Model(inputs=model.inputs, outputs=model.layers[layer].output)\n",
    "            fmap = intermediate.predict(x_test)\n",
    "            W = explain.activation_pwm(fmap, x_test, threshold=threshold, window=window)\n",
    "\n",
    "            num_filters = len(W)\n",
    "            num_widths = int(np.ceil(num_filters/num_cols))\n",
    "\n",
    "            fig = plt.figure(figsize=figsize)\n",
    "            fig.subplots_adjust(hspace=0.3, wspace=0.3)\n",
    "\n",
    "            for n, w in enumerate(W):\n",
    "                ax = fig.add_subplot(num_widths, num_cols, n+1)\n",
    "                #if (np.sum(w) != 0) | (np.sum(np.isnan(w) == True) > 0):\n",
    "\n",
    "                # calculate sequence logo heights\n",
    "                I = np.log2(4) + np.sum(w * np.log2(w+1e-7), axis=1, keepdims=True)\n",
    "                logo = I*w\n",
    "\n",
    "                L, A = w.shape\n",
    "                counts_df = pd.DataFrame(data=0.0, columns=list('ACGT'), index=list(range(L)))\n",
    "                for a in range(A):\n",
    "                    for l in range(L):\n",
    "                        counts_df.iloc[l,a] = logo[l,a]\n",
    "\n",
    "                logomaker.Logo(counts_df, ax=ax)\n",
    "                ax = plt.gca()\n",
    "                ax.spines['right'].set_visible(False)\n",
    "                ax.spines['top'].set_visible(False)\n",
    "                ax.yaxis.set_ticks_position('none')\n",
    "                ax.xaxis.set_ticks_position('none')\n",
    "                plt.xticks([])\n",
    "                plt.yticks([])\n",
    "                plt.ylabel(motifnames[int(best_match[n])], fontsize=16)\n",
    "\n",
    "            outfile = os.path.join(save_path, 'label_'+name+'.pdf')\n",
    "            fig.savefig(outfile, format='pdf', dpi=200, bbox_inches='tight')\n",
    "            plt.close()"
   ]
  },
  {
   "cell_type": "code",
   "execution_count": null,
   "metadata": {},
   "outputs": [],
   "source": []
  },
  {
   "cell_type": "code",
   "execution_count": null,
   "metadata": {},
   "outputs": [],
   "source": []
  }
 ],
 "metadata": {
  "kernelspec": {
   "display_name": "Python 3",
   "language": "python",
   "name": "python3"
  },
  "language_info": {
   "codemirror_mode": {
    "name": "ipython",
    "version": 3
   },
   "file_extension": ".py",
   "mimetype": "text/x-python",
   "name": "python",
   "nbconvert_exporter": "python",
   "pygments_lexer": "ipython3",
   "version": "3.6.9"
  }
 },
 "nbformat": 4,
 "nbformat_minor": 2
}
