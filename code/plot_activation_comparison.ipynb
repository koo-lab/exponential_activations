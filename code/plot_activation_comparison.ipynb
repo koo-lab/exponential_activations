{
 "cells": [
  {
   "cell_type": "code",
   "execution_count": 1,
   "metadata": {},
   "outputs": [],
   "source": [
    "import os, sys, h5py\n",
    "import numpy as np\n",
    "import pandas as pd\n",
    "from sklearn.metrics import roc_curve, auc, precision_recall_curve, accuracy_score, roc_auc_score\n",
    "\n",
    "import tensorflow.compat.v1.keras.backend as K1\n",
    "\n",
    "# plotting tools\n",
    "import matplotlib.pyplot as plt\n",
    "from matplotlib import rcParams\n",
    "%matplotlib inline\n",
    "\n",
    "np.random.seed(33) # for reproducibility"
   ]
  },
  {
   "cell_type": "code",
   "execution_count": 2,
   "metadata": {},
   "outputs": [
    {
     "name": "stdout",
     "output_type": "stream",
     "text": [
      "(6000, 200, 4)\n"
     ]
    }
   ],
   "source": [
    "import helper \n",
    "\n",
    "# load data\n",
    "data_path = '../data/synthetic_dataset.h5'\n",
    "data = helper.load_dataset(data_path)\n",
    "x_train, y_train, x_valid, y_valid, x_test, y_test = data\n",
    "\n",
    "# load ground truth values\n",
    "test_model = helper.load_synthetic_models(data_path, dataset='test')\n",
    "#true_index = np.where(y_test[:,0] == 1)[0]\n",
    "X = x_test#[true_index]\n",
    "X_model = test_model#[true_index]\n",
    "print(X.shape)"
   ]
  },
  {
   "cell_type": "code",
   "execution_count": 5,
   "metadata": {},
   "outputs": [
    {
     "name": "stdout",
     "output_type": "stream",
     "text": [
      "model: cnn-deep_do_l2_bn_relu_0\n",
      "model: cnn-deep_do_l2_bn_relu_1\n",
      "model: cnn-deep_do_l2_bn_relu_2\n",
      "model: cnn-deep_do_l2_bn_relu_3\n",
      "model: cnn-deep_do_l2_bn_relu_4\n",
      "model: cnn-deep_do_l2_bn_relu_5\n",
      "model: cnn-deep_do_l2_bn_relu_6\n",
      "model: cnn-deep_do_l2_bn_relu_7\n",
      "model: cnn-deep_do_l2_bn_relu_8\n",
      "model: cnn-deep_do_l2_bn_relu_9\n",
      "model: cnn-deep_do_l2_bn_exponential_0\n",
      "model: cnn-deep_do_l2_bn_exponential_1\n",
      "model: cnn-deep_do_l2_bn_exponential_2\n",
      "model: cnn-deep_do_l2_bn_exponential_3\n",
      "model: cnn-deep_do_l2_bn_exponential_4\n",
      "model: cnn-deep_do_l2_bn_exponential_5\n",
      "model: cnn-deep_do_l2_bn_exponential_6\n",
      "model: cnn-deep_do_l2_bn_exponential_7\n",
      "model: cnn-deep_do_l2_bn_exponential_8\n",
      "model: cnn-deep_do_l2_bn_exponential_9\n"
     ]
    }
   ],
   "source": [
    "import os\n",
    "import numpy as np\n",
    "from six.moves import cPickle\n",
    "from tensorflow import keras\n",
    "from tensorflow import keras\n",
    "import helper\n",
    "from tfomics import utils, metrics\n",
    "\n",
    "#------------------------------------------------------------------------\n",
    "\n",
    "num_trials = 10\n",
    "model_names = ['cnn-deep']# deep', 'cnn-25', 'cnn-4'] #\n",
    "activations = ['relu', 'exponential']\n",
    "\n",
    "results_path = utils.make_directory('../results', 'synthetic')\n",
    "params_path = utils.make_directory(results_path, 'model_params')\n",
    "\n",
    "#------------------------------------------------------------------------\n",
    "results = {}\n",
    "results2 = {}\n",
    "\n",
    "for model_name in model_names:\n",
    "    for activation in activations:\n",
    "        results[model_name+'_'+activation] = []\n",
    "        results2[model_name+'_'+activation] = []\n",
    "        for trial in range(num_trials):\n",
    "            keras.backend.clear_session()\n",
    "            \n",
    "            # load model\n",
    "            model, name = helper.load_model(model_name, \n",
    "                                            activation=activation, \n",
    "                                            dropout=True, \n",
    "                                            l2=1e-6, \n",
    "                                            bn=True,\n",
    "                                            input_shape=200)\n",
    "            base_name = name+'_'+activation\n",
    "            name = base_name+'_'+str(trial)\n",
    "            print('model: ' + name)\n",
    "\n",
    "            weights_path = os.path.join(params_path, name+'.hdf5')\n",
    "            #model.load_weights(weights_path)        \n",
    "            \n",
    "            sess = K1.get_session()\n",
    "            w = sess.run(model.layers[1].kernel)\n",
    "            w2 = np.sum(np.max(w, axis=1), axis=0)\n",
    "            beta = sess.run(model.layers[2].beta)\n",
    "            gamma = sess.run(model.layers[2].gamma)\n",
    "            val = w2*gamma + beta\n",
    "            results[model_name+'_'+activation].append(val)\n",
    "\n",
    "            w2 = np.sum(np.min(w, axis=1), axis=0)\n",
    "            beta = sess.run(model.layers[2].beta)\n",
    "            gamma = sess.run(model.layers[2].gamma)\n",
    "            val = w2*gamma + beta\n",
    "            results2[model_name+'_'+activation].append(val)\n",
    "        "
   ]
  },
  {
   "cell_type": "code",
   "execution_count": 6,
   "metadata": {},
   "outputs": [],
   "source": [
    "\n",
    "w_exp = np.array(results['cnn-deep_exponential'])\n",
    "w_relu = np.array(results['cnn-deep_relu'])\n",
    "w_exp2 = np.array(results2['cnn-deep_exponential'])\n",
    "w_relu2 = np.array(results2['cnn-deep_relu'])\n"
   ]
  },
  {
   "cell_type": "code",
   "execution_count": 106,
   "metadata": {},
   "outputs": [
    {
     "data": {
      "text/plain": [
       "([<matplotlib.axis.YTick at 0x7f0e2c58c8d0>,\n",
       "  <matplotlib.axis.YTick at 0x7f0e2c58c4e0>,\n",
       "  <matplotlib.axis.YTick at 0x7f07680e3a90>],\n",
       " <a list of 3 Text yticklabel objects>)"
      ]
     },
     "execution_count": 106,
     "metadata": {},
     "output_type": "execute_result"
    },
    {
     "data": {
      "image/png": "[encoded data removed]",
      "text/plain": [
       "<Figure size 432x288 with 1 Axes>"
      ]
     },
     "metadata": {
      "needs_background": "light"
     },
     "output_type": "display_data"
    },
    {
     "data": {
      "image/png": "[encoded data removed]",
      "text/plain": [
       "<Figure size 432x288 with 1 Axes>"
      ]
     },
     "metadata": {
      "needs_background": "light"
     },
     "output_type": "display_data"
    }
   ],
   "source": [
    "#bins = np.linspace(-10, 10, 30)\n",
    "x = np.reshape(w_relu, [-1])\n",
    "y = np.reshape(w_exp, [-1])\n",
    "fig = plt.figure()\n",
    "plt.hist([x, y], bins=22, label=['Relu', 'Exp'])\n",
    "plt.legend(loc='upper left', fontsize=14)\n",
    "#plt.title('CNN', fontsize=12)\n",
    "plt.ylabel('Frequency', fontsize=14)\n",
    "plt.xlabel('z', fontsize=12)\n",
    "plt.xticks([-6, -4, -2, 0, 2, 4, 6], fontsize=14)\n",
    "plt.yticks([0, 20, 40], fontsize=14)\n",
    "\n",
    "#bins = np.linspace(-10, 10, 30)\n",
    "x = np.reshape(w_relu2, [-1])\n",
    "y = np.reshape(w_exp2, [-1])\n",
    "fig = plt.figure()\n",
    "plt.hist([x, y], bins=22, label=['Relu', 'Exp'])\n",
    "plt.legend(loc='upper right', fontsize=14)\n",
    "#plt.title('CNN', fontsize=12)\n",
    "plt.ylabel('Frequency', fontsize=14)\n",
    "plt.xlabel('z', fontsize=12)\n",
    "plt.xticks([-6, -4, -2, 0, 2, 4, 6], fontsize=14)\n",
    "plt.yticks([0, 20, 40], fontsize=14)\n"
   ]
  },
  {
   "cell_type": "code",
   "execution_count": 110,
   "metadata": {},
   "outputs": [
    {
     "data": {
      "text/plain": [
       "([<matplotlib.axis.YTick at 0x7f07598c3128>,\n",
       "  <matplotlib.axis.YTick at 0x7f07598c7a20>,\n",
       "  <matplotlib.axis.YTick at 0x7f07598fa8d0>],\n",
       " <a list of 3 Text yticklabel objects>)"
      ]
     },
     "execution_count": 110,
     "metadata": {},
     "output_type": "execute_result"
    },
    {
     "data": {
      "image/png": "[encoded data removed]",
      "text/plain": [
       "<Figure size 432x288 with 1 Axes>"
      ]
     },
     "metadata": {
      "needs_background": "light"
     },
     "output_type": "display_data"
    }
   ],
   "source": [
    "fig = plt.figure()\n",
    "plt.scatter(np.reshape(w_exp, [-1]), np.exp(np.reshape(w_exp, [-1])), alpha=0.25)\n",
    "plt.scatter(np.reshape(w_exp2, [-1]), np.exp(np.reshape(w_exp2, [-1])), alpha=0.25)\n",
    "plt.ylabel('Activation', fontsize=14)\n",
    "plt.xlabel('z', fontsize=12)\n",
    "plt.xticks([-6, -4, -2, 0, 2, 4, 6], fontsize=14)\n",
    "plt.yticks([0, 25, 50], fontsize=14)\n"
   ]
  },
  {
   "cell_type": "code",
   "execution_count": 96,
   "metadata": {},
   "outputs": [
    {
     "data": {
      "text/plain": [
       "([<matplotlib.axis.YTick at 0x7f07582d2dd8>,\n",
       "  <matplotlib.axis.YTick at 0x7f07582cd5f8>,\n",
       "  <matplotlib.axis.YTick at 0x7f0758313320>],\n",
       " <a list of 3 Text yticklabel objects>)"
      ]
     },
     "execution_count": 96,
     "metadata": {},
     "output_type": "execute_result"
    },
    {
     "data": {
      "image/png": "[encoded data removed]",
      "text/plain": [
       "<Figure size 432x288 with 1 Axes>"
      ]
     },
     "metadata": {
      "needs_background": "light"
     },
     "output_type": "display_data"
    }
   ],
   "source": [
    "fig = plt.figure()\n",
    "plt.scatter(np.reshape(w_relu, [-1]), np.maximum(np.reshape(w_relu, [-1]), 0), alpha=0.25)\n",
    "plt.ylabel('Activation', fontsize=14)\n",
    "plt.xlabel('z', fontsize=12)\n",
    "plt.xticks([-6, -4, -2, 0, 2, 4], fontsize=14)\n",
    "plt.yticks([0, 1, 2], fontsize=14)"
   ]
  },
  {
   "cell_type": "code",
   "execution_count": null,
   "metadata": {},
   "outputs": [],
   "source": []
  },
  {
   "cell_type": "code",
   "execution_count": 7,
   "metadata": {},
   "outputs": [
    {
     "name": "stdout",
     "output_type": "stream",
     "text": [
      "model: cnn-deep_do_l2_bn_exponential_0\n",
      "model: cnn-deep_do_l2_bn_exponential_1\n",
      "model: cnn-deep_do_l2_bn_exponential_2\n",
      "model: cnn-deep_do_l2_bn_exponential_3\n",
      "model: cnn-deep_do_l2_bn_exponential_4\n",
      "model: cnn-deep_do_l2_bn_exponential_5\n",
      "model: cnn-deep_do_l2_bn_exponential_6\n",
      "model: cnn-deep_do_l2_bn_exponential_7\n",
      "model: cnn-deep_do_l2_bn_exponential_8\n",
      "model: cnn-deep_do_l2_bn_exponential_9\n",
      "model: cnn-deep_do_l2_bn_relu_0\n",
      "model: cnn-deep_do_l2_bn_relu_1\n",
      "model: cnn-deep_do_l2_bn_relu_2\n",
      "model: cnn-deep_do_l2_bn_relu_3\n",
      "model: cnn-deep_do_l2_bn_relu_4\n",
      "model: cnn-deep_do_l2_bn_relu_5\n",
      "model: cnn-deep_do_l2_bn_relu_6\n",
      "model: cnn-deep_do_l2_bn_relu_7\n",
      "model: cnn-deep_do_l2_bn_relu_8\n",
      "model: cnn-deep_do_l2_bn_relu_9\n"
     ]
    }
   ],
   "source": [
    "import os\n",
    "import numpy as np\n",
    "from six.moves import cPickle\n",
    "from tensorflow import keras\n",
    "from tensorflow import keras\n",
    "import helper\n",
    "from tfomics import utils, metrics\n",
    "\n",
    "#------------------------------------------------------------------------\n",
    "\n",
    "num_trials = 10\n",
    "model_names = ['cnn-deep']# deep', 'cnn-25', 'cnn-4'] #\n",
    "activations = ['exponential', 'relu']\n",
    "\n",
    "results_path = utils.make_directory('../results', 'synthetic')\n",
    "params_path = utils.make_directory(results_path, 'model_params')\n",
    "\n",
    "#------------------------------------------------------------------------\n",
    "results = {}\n",
    "results2 = {}\n",
    "for model_name in model_names:\n",
    "    for activation in activations:\n",
    "        results[model_name+'_'+activation] = []\n",
    "        results2[model_name+'_'+activation] = []\n",
    "        for trial in range(num_trials):\n",
    "            keras.backend.clear_session()\n",
    "            \n",
    "            # load model\n",
    "            model, name = helper.load_model(model_name, \n",
    "                                            activation=activation, \n",
    "                                            dropout=True, \n",
    "                                            l2=1e-6, \n",
    "                                            bn=True,\n",
    "                                            input_shape=200)\n",
    "            base_name = name+'_'+activation\n",
    "            name = base_name+'_'+str(trial)\n",
    "            print('model: ' + name)\n",
    "\n",
    "            weights_path = os.path.join(params_path, name+'.hdf5')\n",
    "            #model.load_weights(weights_path)            \n",
    "            \n",
    "            intermediate = keras.Model(inputs=model.inputs, outputs=model.layers[3].output)\n",
    "            results[model_name+'_'+activation].append(intermediate.predict(X))\n",
    "        \n",
    "        \n",
    "            intermediate2 = keras.Model(inputs=model.inputs, outputs=model.layers[2].output)\n",
    "            results2[model_name+'_'+activation].append(intermediate2.predict(X))\n",
    "        "
   ]
  },
  {
   "cell_type": "code",
   "execution_count": 8,
   "metadata": {},
   "outputs": [],
   "source": [
    "#bins = np.linspace(-10, 10, 30)\n",
    "x = np.reshape(np.array(results['cnn-deep_exponential'])[0][:100], [-1])\n",
    "y = np.reshape(np.array(results[model_name+'_'+activation])[0][:100], [-1])\n",
    "x2 = np.reshape(np.array(results2['cnn-deep_exponential'])[0][:100], [-1])\n",
    "y2 = np.reshape(np.array(results2[model_name+'_'+activation])[0][:100], [-1])\n",
    "               "
   ]
  },
  {
   "cell_type": "code",
   "execution_count": 13,
   "metadata": {},
   "outputs": [
    {
     "data": {
      "image/png": "[encoded data removed]",
      "text/plain": [
       "<Figure size 576x576 with 3 Axes>"
      ]
     },
     "metadata": {
      "needs_background": "light"
     },
     "output_type": "display_data"
    }
   ],
   "source": [
    "           \n",
    "# definitions for the axes\n",
    "left, width = 0.1, 0.65\n",
    "bottom, height = 0.1, 0.65\n",
    "spacing = 0.005\n",
    "\n",
    "rect_scatter = [left, bottom, width, height]\n",
    "rect_histx = [left, bottom + height + spacing, width, 0.2]\n",
    "rect_histy = [left + width + spacing, bottom, 0.2, height]\n",
    "\n",
    "# start with a rectangular Figure\n",
    "fig = plt.figure(figsize=(8, 8))\n",
    "\n",
    "ax_scatter = plt.axes(rect_scatter)\n",
    "ax_scatter.tick_params(direction='in', top=True, right=True)\n",
    "plt.xlabel('Pre-activation', fontsize=14)\n",
    "plt.ylabel('Post-activation', fontsize=14)\n",
    "\n",
    "ax_histx = plt.axes(rect_histx)\n",
    "ax_histx.tick_params(direction='in', labelbottom=False)\n",
    "ax_histy = plt.axes(rect_histy)\n",
    "ax_histy.tick_params(direction='in', labelleft=False)\n",
    "ax_scatter.set_yticks([0,100,200,300,400])\n",
    "ax_scatter.set_yticklabels([0,100,200,300,400], fontsize=14)\n",
    "ax_scatter.set_xticks([-6, -4, -2, 0, 2, 4, 6])\n",
    "ax_scatter.set_xticklabels([-6, -4, -2, 0, 2, 4, 6], fontsize=14)\n",
    "\n",
    "# the scatter plot:\n",
    "ax_scatter.scatter(x2, x, alpha=0.1, rasterized=True)\n",
    "\n",
    "# now determine nice limits by hand:\n",
    "binwidth = 0.25\n",
    "ax_scatter.set_xlim((-6, 7))\n",
    "ax_scatter.set_ylim((-0, 450))\n",
    "\n",
    "bins = np.arange(-6,6 + binwidth, binwidth)\n",
    "ax_histx.hist(x2, bins=bins)\n",
    "ax_histx.spines['top'].set_visible(False)\n",
    "ax_histx.spines['right'].set_visible(False)\n",
    "ax_histx.set_yticks([40000,80000])\n",
    "ax_histx.set_yticklabels([40000,80000], fontsize=14)\n",
    "\n",
    "ax_histy.hist(x, bins=30, orientation='horizontal')\n",
    "ax_histy.spines['top'].set_visible(False)\n",
    "ax_histy.spines['right'].set_visible(False)\n",
    "ax_histy.set_xticks([150000])\n",
    "ax_histy.set_xticklabels([150000], fontsize=14)\n",
    "\n",
    "ax_histx.set_xlim(ax_scatter.get_xlim())\n",
    "ax_histy.set_ylim(ax_scatter.get_ylim())\n",
    "\n",
    "outfile = os.path.join('pre-post_activation_exp_random.pdf')\n",
    "fig.savefig(outfile, format='pdf', dpi=200, bbox_inches='tight')\n"
   ]
  },
  {
   "cell_type": "code",
   "execution_count": 11,
   "metadata": {},
   "outputs": [
    {
     "data": {
      "image/png": "[encoded data removed]",
      "text/plain": [
       "<Figure size 576x576 with 3 Axes>"
      ]
     },
     "metadata": {
      "needs_background": "light"
     },
     "output_type": "display_data"
    }
   ],
   "source": [
    "           \n",
    "# definitions for the axes\n",
    "left, width = 0.1, 0.65\n",
    "bottom, height = 0.1, 0.65\n",
    "spacing = 0.005\n",
    "\n",
    "rect_scatter = [left, bottom, width, height]\n",
    "rect_histx = [left, bottom + height + spacing, width, 0.2]\n",
    "rect_histy = [left + width + spacing, bottom, 0.2, height]\n",
    "\n",
    "# start with a rectangular Figure\n",
    "fig = plt.figure(figsize=(8, 8))\n",
    "\n",
    "ax_scatter = plt.axes(rect_scatter)\n",
    "ax_scatter.tick_params(direction='in', top=True, right=True)\n",
    "plt.xlabel('Pre-activation', fontsize=14)\n",
    "plt.ylabel('Post-activation', fontsize=14)\n",
    "\n",
    "ax_histx = plt.axes(rect_histx)\n",
    "ax_histx.tick_params(direction='in', labelbottom=False)\n",
    "ax_histy = plt.axes(rect_histy)\n",
    "ax_histy.tick_params(direction='in', labelleft=False)\n",
    "ax_scatter.set_yticks([0,1,2])\n",
    "ax_scatter.set_yticklabels([0,1,2], fontsize=14)\n",
    "ax_scatter.set_xticks([-6, -4, -2, 0, 2, 4, 6])\n",
    "ax_scatter.set_xticklabels([-6, -4, -2, 0, 2, 4, 6], fontsize=14)\n",
    "\n",
    "# the scatter plot:\n",
    "ax_scatter.scatter(y2,y, alpha=0.1, rasterized=True)\n",
    "\n",
    "# now determine nice limits by hand:\n",
    "binwidth = 0.25\n",
    "ax_scatter.set_xlim((-6, 7))\n",
    "ax_scatter.set_ylim((-0, 3))\n",
    "\n",
    "bins = np.arange(-6,6 + binwidth, binwidth)\n",
    "ax_histx.hist(y2, bins=bins)\n",
    "ax_histx.spines['top'].set_visible(False)\n",
    "ax_histx.spines['right'].set_visible(False)\n",
    "ax_histx.set_yticks([40000, 80000])\n",
    "ax_histx.set_yticklabels([40000, 80000], fontsize=14)\n",
    "\n",
    "ax_histy.hist(y, bins=20, orientation='horizontal')\n",
    "ax_histy.spines['top'].set_visible(False)\n",
    "ax_histy.spines['right'].set_visible(False)\n",
    "ax_histy.set_xticks([300000])\n",
    "ax_histy.set_xticklabels([300000], fontsize=14)\n",
    "\n",
    "ax_histx.set_xlim(ax_scatter.get_xlim())\n",
    "ax_histy.set_ylim(ax_scatter.get_ylim())\n",
    "\n",
    "outfile = os.path.join('pre-post_activation_relu_random.pdf')\n",
    "fig.savefig(outfile, format='pdf', dpi=200, bbox_inches='tight')\n"
   ]
  },
  {
   "cell_type": "code",
   "execution_count": 10,
   "metadata": {},
   "outputs": [
    {
     "data": {
      "image/png": "[encoded data removed]",
      "text/plain": [
       "<Figure size 576x576 with 3 Axes>"
      ]
     },
     "metadata": {
      "needs_background": "light"
     },
     "output_type": "display_data"
    }
   ],
   "source": [
    "           \n",
    "# definitions for the axes\n",
    "left, width = 0.1, 0.65\n",
    "bottom, height = 0.1, 0.65\n",
    "spacing = 0.005\n",
    "\n",
    "rect_scatter = [left, bottom, width, height]\n",
    "rect_histx = [left, bottom + height + spacing, width, 0.2]\n",
    "rect_histy = [left + width + spacing, bottom, 0.2, height]\n",
    "\n",
    "# start with a rectangular Figure\n",
    "fig = plt.figure(figsize=(8, 8))\n",
    "\n",
    "ax_scatter = plt.axes(rect_scatter)\n",
    "ax_scatter.tick_params(direction='in', top=True, right=True)\n",
    "plt.xlabel('Pre-activation', fontsize=14)\n",
    "plt.ylabel('Post-activation', fontsize=14)\n",
    "\n",
    "ax_histx = plt.axes(rect_histx)\n",
    "ax_histx.tick_params(direction='in', labelbottom=False)\n",
    "ax_histy = plt.axes(rect_histy)\n",
    "ax_histy.tick_params(direction='in', labelleft=False)\n",
    "ax_scatter.set_yticks([0,1,2])\n",
    "ax_scatter.set_yticklabels([0,1,2], fontsize=14)\n",
    "ax_scatter.set_xticks([-6, -4, -2, 0, 2, 4, 6])\n",
    "ax_scatter.set_xticklabels([-6, -4, -2, 0, 2, 4, 6], fontsize=14)\n",
    "\n",
    "# the scatter plot:\n",
    "ax_scatter.scatter(y2,y, alpha=0.1, rasterized=True)\n",
    "\n",
    "# now determine nice limits by hand:\n",
    "binwidth = 0.25\n",
    "ax_scatter.set_xlim((-6, 7))\n",
    "ax_scatter.set_ylim((-0, 3))\n",
    "\n",
    "bins = np.arange(-6,6 + binwidth, binwidth)\n",
    "ax_histx.hist(y2, bins=bins)\n",
    "ax_histx.spines['top'].set_visible(False)\n",
    "ax_histx.spines['right'].set_visible(False)\n",
    "ax_histx.set_yticks([20000,40000, 60000])\n",
    "ax_histx.set_yticklabels([20000,40000, 60000], fontsize=14)\n",
    "\n",
    "ax_histy.hist(y, bins=20, orientation='horizontal')\n",
    "ax_histy.spines['top'].set_visible(False)\n",
    "ax_histy.spines['right'].set_visible(False)\n",
    "ax_histy.set_xticks([300000])\n",
    "ax_histy.set_xticklabels([300000], fontsize=14)\n",
    "\n",
    "ax_histx.set_xlim(ax_scatter.get_xlim())\n",
    "ax_histy.set_ylim(ax_scatter.get_ylim())\n",
    "\n",
    "outfile = os.path.join('pre-post_activation_relu_random.pdf')\n",
    "fig.savefig(outfile, format='pdf', dpi=200, bbox_inches='tight')\n"
   ]
  },
  {
   "cell_type": "code",
   "execution_count": null,
   "metadata": {},
   "outputs": [],
   "source": []
  },
  {
   "cell_type": "code",
   "execution_count": 117,
   "metadata": {},
   "outputs": [
    {
     "data": {
      "text/plain": [
       "Text(0.5, 0, 'z')"
      ]
     },
     "execution_count": 117,
     "metadata": {},
     "output_type": "execute_result"
    },
    {
     "data": {
      "image/png": "[encoded data removed]",
      "text/plain": [
       "<Figure size 432x288 with 1 Axes>"
      ]
     },
     "metadata": {
      "needs_background": "light"
     },
     "output_type": "display_data"
    }
   ],
   "source": [
    "           \n",
    "fig = plt.figure()\n",
    "plt.hist([x, y], bins=22, label=['Relu', 'Exp'])\n",
    "plt.legend(loc='upper right', fontsize=14)\n",
    "#plt.title('CNN', fontsize=12)\n",
    "plt.ylabel('Frequency', fontsize=14)\n",
    "plt.xlabel('z', fontsize=12)\n",
    "#plt.xticks([-6, -4, -2, 0, 2, 4, 6], fontsize=14)\n",
    "#plt.yticks([0, 20, 40], fontsize=14)"
   ]
  },
  {
   "cell_type": "code",
   "execution_count": 133,
   "metadata": {},
   "outputs": [
    {
     "data": {
      "text/plain": [
       "443.6909"
      ]
     },
     "execution_count": 133,
     "metadata": {},
     "output_type": "execute_result"
    }
   ],
   "source": [
    "np.max(y)\n",
    "np.max(x)\n"
   ]
  },
  {
   "cell_type": "code",
   "execution_count": 130,
   "metadata": {},
   "outputs": [
    {
     "data": {
      "text/plain": [
       "[<matplotlib.lines.Line2D at 0x7f07205d3be0>]"
      ]
     },
     "execution_count": 130,
     "metadata": {},
     "output_type": "execute_result"
    },
    {
     "data": {
      "image/png": "[encoded data removed]",
      "text/plain": [
       "<Figure size 432x288 with 1 Axes>"
      ]
     },
     "metadata": {
      "needs_background": "light"
     },
     "output_type": "display_data"
    }
   ],
   "source": [
    "n1, edges1 = np.histogram(x,bins=1000)\n",
    "n2, edges2 = np.histogram(y,bins=1000)\n",
    "\n",
    "plt.plot(edges1[1:],np.cumsum(n1)/np.sum(n1))\n",
    "plt.plot(edges2[1:],np.cumsum(n2)/np.sum(n2))\n",
    "#plt.xscale('log')\n"
   ]
  },
  {
   "cell_type": "code",
   "execution_count": null,
   "metadata": {},
   "outputs": [],
   "source": []
  }
 ],
 "metadata": {
  "kernelspec": {
   "display_name": "Python 3",
   "language": "python",
   "name": "python3"
  },
  "language_info": {
   "codemirror_mode": {
    "name": "ipython",
    "version": 3
   },
   "file_extension": ".py",
   "mimetype": "text/x-python",
   "name": "python",
   "nbconvert_exporter": "python",
   "pygments_lexer": "ipython3",
   "version": "3.7.0b3"
  }
 },
 "nbformat": 4,
 "nbformat_minor": 2
}
