{
 "cells": [
  {
   "cell_type": "markdown",
   "metadata": {},
   "source": [
    "## Compare sequence logos for attribution methods for Basset model with relu and exponential activations trained on DNase-seq data from Basset"
   ]
  },
  {
   "cell_type": "code",
   "execution_count": null,
   "metadata": {},
   "outputs": [],
   "source": [
    "import os, h5py\n",
    "import numpy as np\n",
    "import logomaker\n",
    "import pandas as pd\n",
    "import matplotlib.pyplot as plt\n",
    "%matplotlib inline\n",
    "\n",
    "import helper\n",
    "from model_zoo import basset\n",
    "from tfomics import utils, explain, metrics\n"
   ]
  },
  {
   "cell_type": "code",
   "execution_count": null,
   "metadata": {},
   "outputs": [],
   "source": [
    "# save path\n",
    "results_path = utils.os.path.join('../results', 'task4')\n",
    "params_path = os.path.join(results_path, 'model_params')\n",
    "save_path = os.path.join(results_path, 'conv_filters')\n",
    "plot_path = utils.make_directory(results_path, 'attr_plots')"
   ]
  },
  {
   "cell_type": "code",
   "execution_count": null,
   "metadata": {},
   "outputs": [],
   "source": [
    "# load dataset\n",
    "data_path = '../data/er.h5'\n",
    "trainmat = h5py.File(data_path, 'r')\n",
    "x_test = np.array(trainmat['test_in']).astype(np.float32)\n",
    "y_test = np.array(trainmat['test_out']).astype(np.int32)\n",
    "labels = np.array(trainmat['target_labels']).astype(str)\n",
    "test_headers = np.array(trainmat['test_headers']).astype(str)\n",
    "x_test = np.squeeze(x_test)\n",
    "x_test = x_test.transpose([0,2,1])"
   ]
  },
  {
   "cell_type": "markdown",
   "metadata": {},
   "source": [
    "#### List experiments with a large number of labels"
   ]
  },
  {
   "cell_type": "code",
   "execution_count": null,
   "metadata": {},
   "outputs": [],
   "source": [
    "indices = np.where(np.sum(y_test, axis=0) > 10000)[0]\n",
    "\n",
    "for i, name in enumerate(labels[indices]):\n",
    "    print(indices[i],name)"
   ]
  },
  {
   "cell_type": "markdown",
   "metadata": {},
   "source": [
    "#### Set experiment"
   ]
  },
  {
   "cell_type": "code",
   "execution_count": null,
   "metadata": {},
   "outputs": [],
   "source": [
    "class_index = 4\n",
    "index = np.where((y_test[:,class_index] == 1)&(np.sum(np.sum(x_test == .25, axis=2), axis=1) == 0) &(np.sum(y_test,axis=1)== 1))[0]\n",
    "print(len(index))"
   ]
  },
  {
   "cell_type": "markdown",
   "metadata": {},
   "source": [
    "#### Load Basset model with relu activations"
   ]
  },
  {
   "cell_type": "code",
   "execution_count": null,
   "metadata": {
    "scrolled": true
   },
   "outputs": [],
   "source": [
    "model_name = 'basset'\n",
    "activation = 'relu'\n",
    "\n",
    "name = model_name+'_'+activation\n",
    "model = basset.model(activation)\n",
    "\n",
    "weights_path = os.path.join(params_path, name+'.hdf5')\n",
    "model.load_weights(weights_path)\n",
    "\n",
    "scores = explain.saliency(model, X, class_index=class_index, layer=-1)\n",
    "scores *= X"
   ]
  },
  {
   "cell_type": "markdown",
   "metadata": {},
   "source": [
    "#### Load Basset model with exponential activations"
   ]
  },
  {
   "cell_type": "code",
   "execution_count": null,
   "metadata": {},
   "outputs": [],
   "source": [
    "model_name = 'basset'\n",
    "activation = 'exponential'\n",
    "\n",
    "name = model_name+'_'+activation+'_balance'\n",
    "model = basset.model(activation)\n",
    "\n",
    "weights_path = os.path.join(params_path, name+'.hdf5')\n",
    "model.load_weights(weights_path)\n",
    "\n",
    "scores2 = explain.saliency(model, X, class_index=class_index, layer=-1)\n",
    "scores2 *= X"
   ]
  },
  {
   "cell_type": "markdown",
   "metadata": {},
   "source": [
    "#### Plot saliency maps for relu activations"
   ]
  },
  {
   "cell_type": "code",
   "execution_count": null,
   "metadata": {},
   "outputs": [],
   "source": [
    "plot_range = range(150,450)\n",
    "N, L, A = scores.shape\n",
    "L = len(plot_range)\n",
    "\n",
    "fig = plt.figure(figsize=(25,20))\n",
    "for i in range(len(scores)):\n",
    "\n",
    "    counts_df = pd.DataFrame(data=0.0, columns=list('ACGT'), index=list(range(L)))\n",
    "    for a in range(A):\n",
    "        for l in range(L):\n",
    "            counts_df.iloc[l,a] = scores[i,plot_range[l],a]\n",
    "\n",
    "    ax = plt.subplot(len(scores),1,i+1)\n",
    "    logomaker.Logo(counts_df, ax=ax)\n",
    "    ax.yaxis.set_ticks_position('none')\n",
    "    ax.xaxis.set_ticks_position('none')\n",
    "    plt.xticks([])\n",
    "    plt.yticks([])\n",
    "    fig = plt.gcf()\n",
    "    plt.ylabel(index[i], fontsize=18)\n",
    "\n",
    "outfile = os.path.join(plot_path, 'basset_relu.pdf')\n",
    "fig.savefig(outfile, format='pdf', dpi=200, bbox_inches='tight')\n"
   ]
  },
  {
   "cell_type": "markdown",
   "metadata": {},
   "source": [
    "#### Plot saliency maps for exponential activations"
   ]
  },
  {
   "cell_type": "code",
   "execution_count": null,
   "metadata": {},
   "outputs": [],
   "source": [
    "plot_range = range(150,450)\n",
    "N, L, A = scores.shape\n",
    "L = len(plot_range)\n",
    "\n",
    "fig = plt.figure(figsize=(25,20))\n",
    "for i in range(len(scores)):\n",
    "\n",
    "    counts_df = pd.DataFrame(data=0.0, columns=list('ACGT'), index=list(range(L)))\n",
    "    for a in range(A):\n",
    "        for l in range(L):\n",
    "            counts_df.iloc[l,a] = scores2[i,plot_range[l],a]\n",
    "\n",
    "    ax = plt.subplot(len(scores),1,i+1)\n",
    "    logomaker.Logo(counts_df, ax=ax)\n",
    "    ax.yaxis.set_ticks_position('none')\n",
    "    ax.xaxis.set_ticks_position('none')\n",
    "    plt.xticks([])\n",
    "    plt.yticks([])\n",
    "    fig = plt.gcf()\n",
    "    plt.ylabel(index[i], fontsize=18)\n",
    "\n",
    "\n",
    "outfile = os.path.join(plot_path, 'basset_exp.pdf')\n",
    "fig.savefig(outfile, format='pdf', dpi=200, bbox_inches='tight')\n"
   ]
  },
  {
   "cell_type": "markdown",
   "metadata": {},
   "source": [
    "# Compare saliency map for same region as Basset paper (Fig. 4) \n",
    "\n",
    "Region: Chr 9: 118,434,976–118,435,175 in H1-hESCs\n"
   ]
  },
  {
   "cell_type": "code",
   "execution_count": null,
   "metadata": {},
   "outputs": [],
   "source": [
    "test = 'TATAAATATTAGTTGAATGGTATGAAGTAAAACAAActtatactggtaatagctttggaatttacaaagcattttcccatgcattatgtcttctcctcctcatattaaccctgcaaacgaaataacattattacccgtactttacagaagaggacactgaagccaaaggagaaaattaactagctcagtcttgcatgacccctgtgaatggactgatcttgaaacccaggtaaccttactccCTGGTCCCAGCCTTTGTTAATGGGGACACAATCCTGGAAATTTTGCCTGTGTGTAAACCTCTAGGGGCTTTTTCTTTCATCGTTTTACATCAGCCAGACTCTGACTCACAGCTGGAGAATCAGCTTCCTTATTATGTAGCGAATTCCATGAACACACACCAAGAGTTGTTTTCTGTAACAGGCTGAAGTAGCTTCTTCTCCCAGTCTCTTTCTCCCATCAAAATTAGAATATCTTTCCTTGGAAAACTGTGCCCAGGTTGAGGGGGACTTCTCCCTGGTTTTGTGTAGACTCTTTGATATGCTCCAAACTCAACGCCTTTCCTTCAATCCCTGGGGCCTTAGGAACAGCCAACCCACA'\n",
    "\n",
    "L = len(test)\n",
    "alphabet = 'ACGT'\n",
    "X = np.zeros((1,L,4))\n",
    "for l,a in enumerate(test.upper()):\n",
    "    X[0,l,alphabet.index(a)] = 1"
   ]
  },
  {
   "cell_type": "code",
   "execution_count": null,
   "metadata": {
    "scrolled": true
   },
   "outputs": [],
   "source": [
    "model_name = 'basset'\n",
    "activation = 'relu'\n",
    "\n",
    "class_index = 113\n",
    "name = model_name+'_'+activation\n",
    "model = basset.model(activation)\n",
    "\n",
    "weights_path = os.path.join(params_path, name+'.hdf5')\n",
    "model.load_weights(weights_path)\n",
    "\n",
    "scores = explain.saliency(model, X, class_index=class_index, layer=-1)\n",
    "scores *= X"
   ]
  },
  {
   "cell_type": "code",
   "execution_count": null,
   "metadata": {},
   "outputs": [],
   "source": [
    "model_name = 'basset'\n",
    "activation = 'exponential'\n",
    "\n",
    "name = model_name+'_'+activation+'_balance'\n",
    "model = basset.model(activation)\n",
    "\n",
    "weights_path = os.path.join(params_path, name+'.hdf5')\n",
    "model.load_weights(weights_path)\n",
    "\n",
    "scores2 = explain.saliency(model, X, class_index=class_index, layer=-1)\n",
    "scores2 *= X"
   ]
  },
  {
   "cell_type": "code",
   "execution_count": null,
   "metadata": {
    "scrolled": false
   },
   "outputs": [],
   "source": [
    "plot_range = range(150,430)\n",
    "N, L, A = scores.shape\n",
    "L = len(plot_range)\n",
    "for k, i in enumerate(range(len(scores))):\n",
    "\n",
    "    fig = plt.figure(figsize=(25,4))\n",
    "\n",
    "    counts_df = pd.DataFrame(data=0.0, columns=list('ACGT'), index=list(range(L)))\n",
    "    for a in range(A):\n",
    "        for l in range(L):\n",
    "            counts_df.iloc[l,a] = scores[i,plot_range[l],a]\n",
    "\n",
    "    ax = plt.subplot(2,1,1)\n",
    "    logomaker.Logo(counts_df, ax=ax)\n",
    "    ax.yaxis.set_ticks_position('none')\n",
    "    ax.xaxis.set_ticks_position('none')\n",
    "    plt.xticks([])\n",
    "    plt.yticks([])\n",
    "    fig = plt.gcf()\n",
    "    plt.ylabel('Relu', fontsize=16)\n",
    "    #ax2 = ax.twinx()\n",
    "    #plt.ylabel(np.round(pr_score[k],4), fontsize=16)\n",
    "    #plt.yticks([])\n",
    "\n",
    "    counts_df = pd.DataFrame(data=0.0, columns=list('ACGT'), index=list(range(L)))\n",
    "    for a in range(A):\n",
    "        for l in range(L):\n",
    "            counts_df.iloc[l,a] = scores2[i,plot_range[l],a]\n",
    "\n",
    "    ax = plt.subplot(2,1,2)\n",
    "    logomaker.Logo(counts_df, ax=ax)\n",
    "    ax.yaxis.set_ticks_position('none')\n",
    "    ax.xaxis.set_ticks_position('none')\n",
    "    plt.xticks([])\n",
    "    plt.yticks([])\n",
    "    fig = plt.gcf()\n",
    "    plt.ylabel('Exp', fontsize=16)\n",
    "    #ax2 = ax.twinx()\n",
    "    #plt.ylabel(np.round(pr_score[k],4), fontsize=16)\n",
    "    #plt.yticks([])\n",
    "\n",
    "\n",
    "    outfile = os.path.join(plot_path, 'basset_compare.pdf')\n",
    "    fig.savefig(outfile, format='pdf', dpi=200, bbox_inches='tight')\n"
   ]
  }
 ],
 "metadata": {
  "kernelspec": {
   "display_name": "Python 3",
   "language": "python",
   "name": "python3"
  },
  "language_info": {
   "codemirror_mode": {
    "name": "ipython",
    "version": 3
   },
   "file_extension": ".py",
   "mimetype": "text/x-python",
   "name": "python",
   "nbconvert_exporter": "python",
   "pygments_lexer": "ipython3",
   "version": "3.6.9"
  }
 },
 "nbformat": 4,
 "nbformat_minor": 2
}
