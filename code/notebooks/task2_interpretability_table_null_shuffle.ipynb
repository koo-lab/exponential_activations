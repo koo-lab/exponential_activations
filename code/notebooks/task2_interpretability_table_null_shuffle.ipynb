{
 "cells": [
  {
   "cell_type": "code",
   "execution_count": 1,
   "metadata": {},
   "outputs": [],
   "source": [
    "import os\n",
    "import numpy as np\n",
    "from six.moves import cPickle\n",
    "import matplotlib.pyplot as plt\n",
    "import helper"
   ]
  },
  {
   "cell_type": "code",
   "execution_count": 14,
   "metadata": {},
   "outputs": [],
   "source": [
    "\n",
    "num_trials = 10\n",
    "model_names = ['task2-cnn-shallow', 'task2-cnn-deep']# deep', 'cnn-25', 'cnn-4'] #\n",
    "activations = ['relu', 'exponential', 'sigmoid', 'tanh', 'linear']\n",
    "\n",
    "results_path = os.path.join('../results', 'synthetic_code')\n",
    "params_path = os.path.join(results_path, 'params')\n",
    "save_path = os.path.join('..', 'scores')"
   ]
  },
  {
   "cell_type": "code",
   "execution_count": 3,
   "metadata": {},
   "outputs": [],
   "source": [
    "\n",
    "# load data\n",
    "data_path = '../data/Synthetic_code_dataset.h5'\n",
    "data = helper.load_dataset(data_path)\n",
    "x_train, y_train, x_valid, y_valid, x_test, y_test = data\n",
    "\n",
    "# load ground truth values\n",
    "test_model = helper.load_synthetic_models(data_path, dataset='test')\n",
    "true_index = np.where(y_test[:,0] == 1)[0]\n",
    "X = x_test[true_index][:500]\n",
    "X_model = test_model[true_index][:500]"
   ]
  },
  {
   "cell_type": "code",
   "execution_count": 15,
   "metadata": {},
   "outputs": [
    {
     "name": "stdout",
     "output_type": "stream",
     "text": [
      "task2-cnn-shallow_relu\n",
      "task2-cnn-shallow_exponential\n",
      "task2-cnn-shallow_sigmoid\n",
      "task2-cnn-shallow_tanh\n",
      "task2-cnn-shallow_linear\n",
      "task2-cnn-deep_relu\n",
      "task2-cnn-deep_exponential\n",
      "task2-cnn-deep_sigmoid\n",
      "task2-cnn-deep_tanh\n",
      "task2-cnn-deep_linear\n"
     ]
    }
   ],
   "source": [
    "file_path = os.path.join(results_path, 'task2_attr_results_roc_null.tsv')\n",
    "\n",
    "with open(file_path, 'w') as f:\n",
    "    for model_name in model_names:\n",
    "        for activation in activations:           \n",
    "            \n",
    "            file_path = os.path.join(save_path, model_name+'_'+activation+'_null.pickle')\n",
    "            with open(file_path, 'rb') as fin:\n",
    "                saliency_scores1 = cPickle.load(fin)\n",
    "                saliency_scores2 = cPickle.load(fin)\n",
    "                mut_scores1 = cPickle.load(fin)\n",
    "                mut_scores2 = cPickle.load(fin)\n",
    "                smoothgrad_scores = cPickle.load(fin)\n",
    "                integrated_scores = cPickle.load(fin)\n",
    "                shap_scores = cPickle.load(fin)\n",
    "\n",
    "            scores = [saliency_scores1, mut_scores1, smoothgrad_scores, integrated_scores, shap_scores]\n",
    "            name = model_name+'_'+activation\n",
    "            print(name)\n",
    "            f.write('%s\\t'%(name)) \n",
    "            for i, score in enumerate(scores):\n",
    "                if i == 1:\n",
    "                    scores = np.sqrt(np.sum(score**2, axis=-1, keepdims=True)) * X\n",
    "                else:\n",
    "                    score *= X\n",
    "                roc_score, pr_score = helper.interpretability_performance(X, score, X_model)\n",
    "                f.write('%.4f+/-%.4f\\t'%(np.mean(roc_score), \n",
    "                                         np.std(roc_score)))\n",
    "            f.write('\\n')\n",
    "            \n",
    "            \n",
    "\n"
   ]
  },
  {
   "cell_type": "code",
   "execution_count": 16,
   "metadata": {},
   "outputs": [
    {
     "name": "stdout",
     "output_type": "stream",
     "text": [
      "task2-cnn-shallow_relu\n",
      "task2-cnn-shallow_exponential\n",
      "task2-cnn-shallow_sigmoid\n",
      "task2-cnn-shallow_tanh\n",
      "task2-cnn-shallow_linear\n",
      "task2-cnn-deep_relu\n",
      "task2-cnn-deep_exponential\n",
      "task2-cnn-deep_sigmoid\n",
      "task2-cnn-deep_tanh\n",
      "task2-cnn-deep_linear\n"
     ]
    }
   ],
   "source": [
    "file_path = os.path.join(results_path, 'task2_attr_results_pr_null.tsv')\n",
    "\n",
    "with open(file_path, 'w') as f:\n",
    "    for model_name in model_names:\n",
    "        for activation in activations:           \n",
    "            \n",
    "            file_path = os.path.join(save_path, model_name+'_'+activation+'_null.pickle')\n",
    "            with open(file_path, 'rb') as fin:\n",
    "                saliency_scores1 = cPickle.load(fin)\n",
    "                saliency_scores2 = cPickle.load(fin)\n",
    "                mut_scores1 = cPickle.load(fin)\n",
    "                mut_scores2 = cPickle.load(fin)\n",
    "                smoothgrad_scores = cPickle.load(fin)\n",
    "                integrated_scores = cPickle.load(fin)\n",
    "                shap_scores = cPickle.load(fin)\n",
    "\n",
    "            scores = [saliency_scores1, mut_scores1, smoothgrad_scores, integrated_scores, shap_scores]\n",
    "            name = model_name+'_'+activation\n",
    "            print(name)\n",
    "            f.write('%s\\t'%(name)) \n",
    "            for i, score in enumerate(scores):\n",
    "                if i == 1:\n",
    "                    scores = np.sqrt(np.sum(score**2, axis=-1, keepdims=True)) * X\n",
    "                else:\n",
    "                    score *= X\n",
    "                roc_score, pr_score = helper.interpretability_performance(X, score, X_model)\n",
    "                f.write('%.4f+/-%.4f\\t'%(np.mean(pr_score), \n",
    "                                         np.std(pr_score)))\n",
    "            f.write('\\n')\n",
    "            \n",
    "            \n"
   ]
  },
  {
   "cell_type": "code",
   "execution_count": 17,
   "metadata": {},
   "outputs": [
    {
     "name": "stdout",
     "output_type": "stream",
     "text": [
      "task2-cnn-shallow_relu\n",
      "task2-cnn-shallow_exponential\n",
      "task2-cnn-shallow_sigmoid\n",
      "task2-cnn-shallow_tanh\n",
      "task2-cnn-shallow_linear\n",
      "task2-cnn-deep_relu\n",
      "task2-cnn-deep_exponential\n",
      "task2-cnn-deep_sigmoid\n",
      "task2-cnn-deep_tanh\n",
      "task2-cnn-deep_linear\n"
     ]
    }
   ],
   "source": [
    "file_path = os.path.join(results_path, 'task2_attr_results_roc_shuffle.tsv')\n",
    "\n",
    "with open(file_path, 'w') as f:\n",
    "    for model_name in model_names:\n",
    "        for activation in activations:           \n",
    "            \n",
    "            file_path = os.path.join(save_path, model_name+'_'+activation+'_shuffle.pickle')\n",
    "            with open(file_path, 'rb') as fin:\n",
    "                saliency_scores1 = cPickle.load(fin)\n",
    "                saliency_scores2 = cPickle.load(fin)\n",
    "                mut_scores1 = cPickle.load(fin)\n",
    "                mut_scores2 = cPickle.load(fin)\n",
    "                smoothgrad_scores = cPickle.load(fin)\n",
    "                integrated_scores = cPickle.load(fin)\n",
    "                shap_scores = cPickle.load(fin)\n",
    "\n",
    "            scores = [saliency_scores1, mut_scores1, smoothgrad_scores, integrated_scores, shap_scores]\n",
    "            name = model_name+'_'+activation\n",
    "            print(name)\n",
    "            f.write('%s\\t'%(name)) \n",
    "            for i, score in enumerate(scores):\n",
    "                if i == 1:\n",
    "                    scores = np.sqrt(np.sum(score**2, axis=-1, keepdims=True)) * X\n",
    "                else:\n",
    "                    score *= X\n",
    "                roc_score, pr_score = helper.interpretability_performance(X, score, X_model)\n",
    "                f.write('%.4f+/-%.4f\\t'%(np.mean(roc_score), \n",
    "                                         np.std(roc_score)))\n",
    "            f.write('\\n')\n",
    "            \n",
    "            \n",
    "\n"
   ]
  },
  {
   "cell_type": "code",
   "execution_count": 18,
   "metadata": {},
   "outputs": [
    {
     "name": "stdout",
     "output_type": "stream",
     "text": [
      "task2-cnn-shallow_relu\n",
      "task2-cnn-shallow_exponential\n",
      "task2-cnn-shallow_sigmoid\n",
      "task2-cnn-shallow_tanh\n",
      "task2-cnn-shallow_linear\n",
      "task2-cnn-deep_relu\n",
      "task2-cnn-deep_exponential\n",
      "task2-cnn-deep_sigmoid\n",
      "task2-cnn-deep_tanh\n",
      "task2-cnn-deep_linear\n"
     ]
    }
   ],
   "source": [
    "file_path = os.path.join(results_path, 'task2_attr_results_pr_shuffle.tsv')\n",
    "\n",
    "with open(file_path, 'w') as f:\n",
    "    for model_name in model_names:\n",
    "        for activation in activations:           \n",
    "            \n",
    "            file_path = os.path.join(save_path, model_name+'_'+activation+'_shuffle.pickle')\n",
    "            with open(file_path, 'rb') as fin:\n",
    "                saliency_scores1 = cPickle.load(fin)\n",
    "                saliency_scores2 = cPickle.load(fin)\n",
    "                mut_scores1 = cPickle.load(fin)\n",
    "                mut_scores2 = cPickle.load(fin)\n",
    "                smoothgrad_scores = cPickle.load(fin)\n",
    "                integrated_scores = cPickle.load(fin)\n",
    "                shap_scores = cPickle.load(fin)\n",
    "\n",
    "            scores = [saliency_scores1, mut_scores1, smoothgrad_scores, integrated_scores, shap_scores]\n",
    "            name = model_name+'_'+activation\n",
    "            print(name)\n",
    "            f.write('%s\\t'%(name)) \n",
    "            for i, score in enumerate(scores):\n",
    "                if i == 1:\n",
    "                    scores = np.sqrt(np.sum(score**2, axis=-1, keepdims=True)) * X\n",
    "                else:\n",
    "                    score *= X\n",
    "                roc_score, pr_score = helper.interpretability_performance(X, score, X_model)\n",
    "                f.write('%.4f+/-%.4f\\t'%(np.mean(pr_score), \n",
    "                                         np.std(pr_score)))\n",
    "            f.write('\\n')\n",
    "            \n",
    "            \n"
   ]
  },
  {
   "cell_type": "code",
   "execution_count": null,
   "metadata": {},
   "outputs": [],
   "source": []
  }
 ],
 "metadata": {
  "kernelspec": {
   "display_name": "Python 3",
   "language": "python",
   "name": "python3"
  },
  "language_info": {
   "codemirror_mode": {
    "name": "ipython",
    "version": 3
   },
   "file_extension": ".py",
   "mimetype": "text/x-python",
   "name": "python",
   "nbconvert_exporter": "python",
   "pygments_lexer": "ipython3",
   "version": "3.6.9"
  }
 },
 "nbformat": 4,
 "nbformat_minor": 2
}
