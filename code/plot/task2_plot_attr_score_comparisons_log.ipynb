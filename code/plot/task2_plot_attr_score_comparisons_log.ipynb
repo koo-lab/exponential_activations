{
 "cells": [
  {
   "cell_type": "code",
   "execution_count": 1,
   "metadata": {},
   "outputs": [
    {
     "name": "stderr",
     "output_type": "stream",
     "text": [
      "Using TensorFlow backend.\n"
     ]
    }
   ],
   "source": [
    "import os\n",
    "import numpy as np\n",
    "from six.moves import cPickle\n",
    "import matplotlib.pyplot as plt\n",
    "import helper\n",
    "\n",
    "from tfomics import utils"
   ]
  },
  {
   "cell_type": "code",
   "execution_count": 2,
   "metadata": {},
   "outputs": [],
   "source": [
    "results_path = os.path.join('../results', 'synthetic_code_log')\n",
    "params_path = utils.make_directory(results_path, 'model_params')\n",
    "params_path = os.path.join(results_path, 'params')\n",
    "save_path = os.path.join('..', 'scores')"
   ]
  },
  {
   "cell_type": "code",
   "execution_count": 3,
   "metadata": {},
   "outputs": [],
   "source": [
    "\n",
    "# load data\n",
    "data_path = '../data/Synthetic_code_dataset.h5'\n",
    "data = helper.load_dataset(data_path)\n",
    "x_train, y_train, x_valid, y_valid, x_test, y_test = data\n",
    "\n",
    "# load ground truth values\n",
    "test_model = helper.load_synthetic_models(data_path, dataset='test')\n",
    "true_index = np.where(y_test[:,0] == 1)[0]\n",
    "X = x_test[true_index][:500]\n",
    "X_model = test_model[true_index][:500]"
   ]
  },
  {
   "cell_type": "code",
   "execution_count": 4,
   "metadata": {},
   "outputs": [],
   "source": [
    "# save results\n",
    "file_path = os.path.join(results_path, 'results_log.pickle')\n",
    "with open(file_path, 'rb') as f:\n",
    "    scores = cPickle.load(f)\n",
    "    "
   ]
  },
  {
   "cell_type": "code",
   "execution_count": 5,
   "metadata": {},
   "outputs": [
    {
     "data": {
      "text/plain": [
       "dict_keys(['cnn-deep_log_relu_l2_4', 'cnn-deep_log_relu_4', 'cnn-deep_relu_l2_4', 'cnn-deep_relu_4'])"
      ]
     },
     "execution_count": 5,
     "metadata": {},
     "output_type": "execute_result"
    }
   ],
   "source": [
    "scores.keys()"
   ]
  },
  {
   "cell_type": "code",
   "execution_count": 6,
   "metadata": {},
   "outputs": [
    {
     "data": {
      "text/plain": [
       "5"
      ]
     },
     "execution_count": 6,
     "metadata": {},
     "output_type": "execute_result"
    }
   ],
   "source": [
    "len(scores['cnn-deep_relu_4'])"
   ]
  },
  {
   "cell_type": "code",
   "execution_count": 7,
   "metadata": {},
   "outputs": [
    {
     "name": "stdout",
     "output_type": "stream",
     "text": [
      "cnn-deep_log_relu_l2_4: 0.7974+/-0.0125\t\n",
      "cnn-deep_log_relu_4: 0.7762+/-0.0177\t\n",
      "cnn-deep_relu_l2_4: 0.7469+/-0.0192\t\n",
      "cnn-deep_relu_4: 0.7411+/-0.0102\t\n"
     ]
    }
   ],
   "source": [
    "\n",
    "num_trials = 5\n",
    "model_names = ['cnn-deep_log_relu_l2_4', 'cnn-deep_log_relu_4', 'cnn-deep_relu_l2_4', 'cnn-deep_relu_4']\n",
    "\n",
    "results_path = os.path.join('../results', 'synthetic_code_log')\n",
    "params_path = os.path.join(results_path, 'params')\n",
    "\n",
    "results = {}\n",
    "for model_name in model_names:\n",
    "    shap_roc = []\n",
    "    shap_pr = []\n",
    "    for trial in range(num_trials):\n",
    "        trial_scores = scores[model_name][trial] * X\n",
    "        roc_score, pr_score = helper.interpretability_performance(X, trial_scores, X_model)\n",
    "        shap_roc.append(np.mean(roc_score))\n",
    "        shap_pr.append(np.mean(pr_score))    \n",
    "\n",
    "    results[model_name] = [np.array(shap_roc), np.array(shap_pr)]\n",
    "    print('%s: %.4f+/-%.4f\\t'%(model_name, \n",
    "                               np.mean(results[model_name][0]), \n",
    "                               np.std(results[model_name][0]))) \n",
    "\n",
    "            "
   ]
  },
  {
   "cell_type": "code",
   "execution_count": 8,
   "metadata": {},
   "outputs": [
    {
     "name": "stdout",
     "output_type": "stream",
     "text": [
      "cnn-deep_log_relu_l2_4: 0.6956+/-0.0209\t\n",
      "cnn-deep_log_relu_4: 0.6558+/-0.0195\t\n",
      "cnn-deep_relu_l2_4: 0.6554+/-0.0211\t\n",
      "cnn-deep_relu_4: 0.6308+/-0.0197\t\n"
     ]
    }
   ],
   "source": [
    "\n",
    "for model_name in model_names:\n",
    "    print('%s: %.4f+/-%.4f\\t'%(model_name, \n",
    "                               np.mean(results[model_name][1]), \n",
    "                               np.std(results[model_name][1]))) \n"
   ]
  },
  {
   "cell_type": "code",
   "execution_count": 9,
   "metadata": {},
   "outputs": [
    {
     "data": {
      "image/png": "[encoded data removed]",
      "text/plain": [
       "<Figure size 288x216 with 1 Axes>"
      ]
     },
     "metadata": {
      "needs_background": "light"
     },
     "output_type": "display_data"
    }
   ],
   "source": [
    "\n",
    "\n",
    "names = ['Log-Relu-l2', 'Log-relu', 'Relu-l2', 'Relu']\n",
    "\n",
    "\n",
    "fig = plt.figure(figsize=(4,3))\n",
    "ax = plt.subplot(1,1,1)\n",
    "vals = [results['cnn-deep_log_relu_l2_4'][0], \n",
    "        results['cnn-deep_log_relu_4'][0],\n",
    "        results['cnn-deep_relu_l2_4'][0], \n",
    "        results['cnn-deep_relu_4'][0],\n",
    "       ]\n",
    "ax.boxplot(vals,  widths = 0.6);\n",
    "plt.ylabel('AUROC', fontsize=12)\n",
    "plt.yticks([0.7, 0.75, 0.8], fontsize=12)\n",
    "plt.xticks(np.linspace(1,4,4), names, fontsize=12, rotation=60)\n",
    "ax.set_ybound([.69,0.84])\n",
    "ax.set_xbound([.5,4.5])\n",
    "outfile = os.path.join(results_path, 'task2_compare_attr_score_auroc_log')\n",
    "fig.savefig(outfile, format='pdf', dpi=200, bbox_inches='tight')"
   ]
  },
  {
   "cell_type": "code",
   "execution_count": 11,
   "metadata": {},
   "outputs": [
    {
     "data": {
      "image/png": "[encoded data removed]",
      "text/plain": [
       "<Figure size 288x216 with 1 Axes>"
      ]
     },
     "metadata": {
      "needs_background": "light"
     },
     "output_type": "display_data"
    }
   ],
   "source": [
    "\n",
    "\n",
    "names = ['Log-Relu-l2', 'Log-relu', 'Relu-l2', 'Relu']\n",
    "\n",
    "\n",
    "fig = plt.figure(figsize=(4,3))\n",
    "ax = plt.subplot(1,1,1)\n",
    "vals = [results['cnn-deep_log_relu_l2_4'][1], \n",
    "        results['cnn-deep_log_relu_4'][1],\n",
    "        results['cnn-deep_relu_l2_4'][1], \n",
    "        results['cnn-deep_relu_4'][1],\n",
    "       ]\n",
    "ax.boxplot(vals,  widths = 0.6);\n",
    "plt.ylabel('AUPR', fontsize=12)\n",
    "plt.yticks([ 0.6, 0.65, 0.7], fontsize=12)\n",
    "plt.xticks(np.linspace(1,4,4), names, fontsize=12, rotation=60)\n",
    "ax.set_ybound([.58,0.74])\n",
    "ax.set_xbound([.5,4.5])\n",
    "outfile = os.path.join(results_path, 'task2_compare_attr_score_pr_log')\n",
    "fig.savefig(outfile, format='pdf', dpi=200, bbox_inches='tight')"
   ]
  },
  {
   "cell_type": "code",
   "execution_count": 41,
   "metadata": {},
   "outputs": [
    {
     "data": {
      "image/png": "[encoded data removed]",
      "text/plain": [
       "<Figure size 864x216 with 2 Axes>"
      ]
     },
     "metadata": {
      "needs_background": "light"
     },
     "output_type": "display_data"
    }
   ],
   "source": [
    "\n",
    "\n",
    "names = ['Log-Relu-l2', 'Log-Relu', 'Relu-l2', 'Relu']\n",
    "\n",
    "\n",
    "fig = plt.figure(figsize=(12,3))\n",
    "ax = plt.subplot(121)\n",
    "vals = [results['cnn-deep_log_relu_l2_4'][0], \n",
    "        results['cnn-deep_log_relu_4'][0],\n",
    "        results['cnn-deep_relu_l2_4'][0], \n",
    "        results['cnn-deep_relu_4'][0],\n",
    "       ]\n",
    "ax.boxplot(vals,  widths = 0.6);\n",
    "plt.ylabel('AUROC', fontsize=12)\n",
    "plt.yticks([0.7, 0.75, 0.8], fontsize=12)\n",
    "plt.xticks(np.linspace(1,4,4), names, fontsize=12, rotation=60)\n",
    "ax.set_ybound([.69,0.84])\n",
    "ax.set_xbound([.5,4.5])\n",
    "\n",
    "\n",
    "ax = plt.subplot(122)\n",
    "vals = [results['cnn-deep_log_relu_l2_4'][1], \n",
    "        results['cnn-deep_log_relu_4'][1],\n",
    "        results['cnn-deep_relu_l2_4'][1], \n",
    "        results['cnn-deep_relu_4'][1],\n",
    "       ]\n",
    "ax.boxplot(vals,  widths = 0.6);\n",
    "plt.ylabel('AUPR', fontsize=12)\n",
    "plt.yticks([ 0.6, 0.65, 0.7], fontsize=12)\n",
    "plt.xticks(np.linspace(1,4,4), names, fontsize=12, rotation=60)\n",
    "ax.set_ybound([.58,0.74])\n",
    "ax.set_xbound([.5,4.5])\n",
    "outfile = os.path.join(results_path, 'task2_compare_attr_score_log')\n",
    "fig.savefig(outfile, format='pdf', dpi=200, bbox_inches='tight')\n",
    "\n"
   ]
  },
  {
   "cell_type": "code",
   "execution_count": null,
   "metadata": {},
   "outputs": [],
   "source": []
  }
 ],
 "metadata": {
  "kernelspec": {
   "display_name": "Python 3",
   "language": "python",
   "name": "python3"
  },
  "language_info": {
   "codemirror_mode": {
    "name": "ipython",
    "version": 3
   },
   "file_extension": ".py",
   "mimetype": "text/x-python",
   "name": "python",
   "nbconvert_exporter": "python",
   "pygments_lexer": "ipython3",
   "version": "3.6.9"
  }
 },
 "nbformat": 4,
 "nbformat_minor": 2
}
