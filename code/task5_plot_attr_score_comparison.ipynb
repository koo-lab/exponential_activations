{
 "cells": [
  {
   "cell_type": "code",
   "execution_count": null,
   "metadata": {},
   "outputs": [],
   "source": [
    "import os\n",
    "import numpy as np\n",
    "from six.moves import cPickle\n",
    "import matplotlib.pyplot as plt\n",
    "import logomaker\n",
    "import pandas as pd\n",
    "from tensorflow import keras\n",
    "\n",
    "import helper\n",
    "from tfomics import utils, metrics, explain"
   ]
  },
  {
   "cell_type": "code",
   "execution_count": null,
   "metadata": {},
   "outputs": [],
   "source": [
    "\n",
    "model_names = ['residual_bind'] #, 'task2-cnn-shallow']# deep', 'cnn-25', 'cnn-4'] #\n",
    "activations = ['relu', 'exponential']#\n",
    "\n",
    "results_path = os.path.join('../results', 'task5')\n",
    "params_path = os.path.join(results_path, 'model_params')\n",
    "plot_path = utils.make_directory(results_path, 'attr_plots')\n"
   ]
  },
  {
   "cell_type": "code",
   "execution_count": null,
   "metadata": {},
   "outputs": [],
   "source": [
    "\n",
    "file_path = '../data/ZBED2_400_h3k27ac.h5' #ZBED2_200_h3k27ac\n",
    "data = helper.load_data(file_path, reverse_compliment=True)\n",
    "x_train, y_train, x_valid, y_valid, x_test, y_test = data\n",
    "\n",
    "true_index = np.where(y_test[:,0] == 1)[0]\n",
    "X = x_test[true_index][:500]"
   ]
  },
  {
   "cell_type": "code",
   "execution_count": null,
   "metadata": {},
   "outputs": [],
   "source": [
    "file_path = os.path.join(results_path, 'task5_saliency_results.pickle')\n",
    "with open(file_path, 'rb') as f:\n",
    "    results = cPickle.load(f)\n",
    "    \n",
    "scores = results['residualbind_exponential']\n",
    "scores2 = results['residualbind_relu']\n",
    "scores *= X\n",
    "scores2 *= X\n",
    "\n",
    "plot_range = range(50,350)\n",
    "scores = scores[:,plot_range,:]\n",
    "scores2 = scores2[:,plot_range,:]\n",
    "\n",
    "X = X[:,plot_range,:]\n",
    "N, L, A = scores.shape"
   ]
  },
  {
   "cell_type": "code",
   "execution_count": null,
   "metadata": {
    "scrolled": false
   },
   "outputs": [],
   "source": [
    "plot_index = [1, 11, 16, 18, 21, 37, 46, 61, 62, 79, 90, 95]\n",
    "\n",
    "\n",
    "fig = plt.figure(figsize=(25,13))\n",
    "for i in range(len(plot_index)):\n",
    "    \n",
    "\n",
    "    counts_df = pd.DataFrame(data=0.0, columns=list('ACGT'), index=list(range(L)))\n",
    "    for a in range(A):\n",
    "        for l in range(L):\n",
    "            counts_df.iloc[l,a] = scores2[plot_index[i],l,a]\n",
    "\n",
    "    ax = plt.subplot(len(plot_index),1,i+1)\n",
    "    logomaker.Logo(counts_df, ax=ax)\n",
    "    ax.yaxis.set_ticks_position('none')\n",
    "    ax.xaxis.set_ticks_position('none')\n",
    "    plt.xticks([])\n",
    "    plt.yticks([])\n",
    "    fig = plt.gcf()\n",
    "    plt.ylabel(i+1, fontsize=18)\n",
    "    #plt.ylabel('Relu', fontsize=16)\n",
    "    #ax2 = ax.twinx()\n",
    "    #plt.ylabel(np.round(pr_score[k],4), fontsize=16)\n",
    "    #plt.yticks([])\n",
    "    \n",
    "outfile = os.path.join(plot_path, 'Relu_residualbind.pdf')\n",
    "fig.savefig(outfile, format='pdf', dpi=200, bbox_inches='tight')\n"
   ]
  },
  {
   "cell_type": "code",
   "execution_count": null,
   "metadata": {},
   "outputs": [],
   "source": [
    "plot_index = [1, 11, 16, 18, 21, 37, 46, 61, 62, 79, 90, 95]\n",
    "\n",
    "for i in range(len(plot_index)):\n",
    "\n",
    "    fig = plt.figure(figsize=(25,20))\n",
    "    counts_df = pd.DataFrame(data=0.0, columns=list('ACGT'), index=list(range(L)))\n",
    "    for a in range(A):\n",
    "        for l in range(L):\n",
    "            counts_df.iloc[l,a] = scores[plot_index[i],l,a]\n",
    "\n",
    "    ax = plt.subplot(len(plot_index),1,i+1)\n",
    "    logomaker.Logo(counts_df, ax=ax)\n",
    "    ax.yaxis.set_ticks_position('none')\n",
    "    ax.xaxis.set_ticks_position('none')\n",
    "    plt.xticks([])\n",
    "    plt.yticks([])\n",
    "    fig = plt.gcf()\n",
    "    plt.ylabel(i+1, fontsize=18)\n",
    "outfile = os.path.join(plot_path, 'Exp_residualbind.pdf')\n",
    "fig.savefig(outfile, format='pdf', dpi=200, bbox_inches='tight')\n"
   ]
  },
  {
   "cell_type": "code",
   "execution_count": null,
   "metadata": {},
   "outputs": [],
   "source": []
  }
 ],
 "metadata": {
  "kernelspec": {
   "display_name": "Python 3",
   "language": "python",
   "name": "python3"
  },
  "language_info": {
   "codemirror_mode": {
    "name": "ipython",
    "version": 3
   },
   "file_extension": ".py",
   "mimetype": "text/x-python",
   "name": "python",
   "nbconvert_exporter": "python",
   "pygments_lexer": "ipython3",
   "version": "3.6.9"
  }
 },
 "nbformat": 4,
 "nbformat_minor": 2
}
