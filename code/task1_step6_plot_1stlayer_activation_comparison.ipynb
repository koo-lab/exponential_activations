{
 "cells": [
  {
   "cell_type": "markdown",
   "metadata": {},
   "source": [
    "# This notebook plots a comparison of pre- and post-activations in CNN-deep before and after training (Supplementary Fig. 10)"
   ]
  },
  {
   "cell_type": "code",
   "execution_count": 1,
   "metadata": {},
   "outputs": [],
   "source": [
    "import os\n",
    "import numpy as np\n",
    "import matplotlib.pyplot as plt\n",
    "%matplotlib inline\n",
    "from tensorflow import keras\n",
    "import helper"
   ]
  },
  {
   "cell_type": "code",
   "execution_count": 2,
   "metadata": {},
   "outputs": [
    {
     "name": "stdout",
     "output_type": "stream",
     "text": [
      "(6000, 200, 4)\n"
     ]
    }
   ],
   "source": [
    "# load data\n",
    "data_path = '../data/synthetic_dataset.h5'\n",
    "data = helper.load_dataset(data_path)\n",
    "x_train, y_train, x_valid, y_valid, x_test, y_test = data\n",
    "\n",
    "# load ground truth values\n",
    "test_model = helper.load_synthetic_models(data_path, dataset='test')\n",
    "X = x_test\n",
    "X_model = test_model\n",
    "print(X.shape)"
   ]
  },
  {
   "cell_type": "markdown",
   "metadata": {},
   "source": [
    "## Plot pre and post activation values for 1st convolutional layer prior to training"
   ]
  },
  {
   "cell_type": "code",
   "execution_count": null,
   "metadata": {},
   "outputs": [],
   "source": [
    "num_trials = 1\n",
    "model_names = ['cnn-deep']\n",
    "activations = ['exponential', 'relu']\n",
    "\n",
    "results_path = os.path.join('../results', 'task1')\n",
    "params_path = os.path.join(results_path, 'model_params')\n",
    "\n",
    "results = {}\n",
    "results2 = {}\n",
    "for model_name in model_names:\n",
    "    for activation in activations:\n",
    "        results[model_name+'_'+activation] = []\n",
    "        results2[model_name+'_'+activation] = []\n",
    "        for trial in range(num_trials):\n",
    "            keras.backend.clear_session()\n",
    "            \n",
    "            # load model (it is randomly initialized)\n",
    "            model, name = helper.load_model(model_name, \n",
    "                                            activation=activation, \n",
    "                                            dropout=True, \n",
    "                                            l2=1e-6, \n",
    "                                            bn=True,\n",
    "                                            input_shape=200)\n",
    "            base_name = name+'_'+activation\n",
    "            name = base_name+'_'+str(trial)\n",
    "            print('model: ' + name)\n",
    "\n",
    "            # after activations \n",
    "            intermediate = keras.Model(inputs=model.inputs, outputs=model.layers[3].output)\n",
    "            results[model_name+'_'+activation].append(intermediate.predict(X))\n",
    "        \n",
    "            # before activations         \n",
    "            intermediate2 = keras.Model(inputs=model.inputs, outputs=model.layers[2].output)\n",
    "            results2[model_name+'_'+activation].append(intermediate2.predict(X))\n",
    "        "
   ]
  },
  {
   "cell_type": "markdown",
   "metadata": {},
   "source": [
    "#### Only get activations for the first 100 sequences"
   ]
  },
  {
   "cell_type": "code",
   "execution_count": null,
   "metadata": {},
   "outputs": [],
   "source": [
    "x = np.reshape(np.array(results['cnn-deep_exponential'])[0][:100], [-1])\n",
    "y = np.reshape(np.array(results['cnn-deep_relu'])[0][:100], [-1])\n",
    "x2 = np.reshape(np.array(results2['cnn-deep_exponential'])[0][:100], [-1])\n",
    "y2 = np.reshape(np.array(results2['cnn-deep_relu'])[0][:100], [-1])    "
   ]
  },
  {
   "cell_type": "markdown",
   "metadata": {},
   "source": [
    "#### Plot the activations of CNN-deep with exponential activations prior to training"
   ]
  },
  {
   "cell_type": "code",
   "execution_count": 7,
   "metadata": {},
   "outputs": [
    {
     "name": "stdout",
     "output_type": "stream",
     "text": [
      "model: cnn-deep_do_l2_bn_exponential_0\n",
      "model: cnn-deep_do_l2_bn_exponential_1\n",
      "model: cnn-deep_do_l2_bn_exponential_2\n",
      "model: cnn-deep_do_l2_bn_exponential_3\n",
      "model: cnn-deep_do_l2_bn_exponential_4\n",
      "model: cnn-deep_do_l2_bn_exponential_5\n",
      "model: cnn-deep_do_l2_bn_exponential_6\n",
      "model: cnn-deep_do_l2_bn_exponential_7\n",
      "model: cnn-deep_do_l2_bn_exponential_8\n",
      "model: cnn-deep_do_l2_bn_exponential_9\n",
      "model: cnn-deep_do_l2_bn_relu_0\n",
      "model: cnn-deep_do_l2_bn_relu_1\n",
      "model: cnn-deep_do_l2_bn_relu_2\n",
      "model: cnn-deep_do_l2_bn_relu_3\n",
      "model: cnn-deep_do_l2_bn_relu_4\n",
      "model: cnn-deep_do_l2_bn_relu_5\n",
      "model: cnn-deep_do_l2_bn_relu_6\n",
      "model: cnn-deep_do_l2_bn_relu_7\n",
      "model: cnn-deep_do_l2_bn_relu_8\n",
      "model: cnn-deep_do_l2_bn_relu_9\n"
     ]
    }
   ],
   "source": [
    "# definitions for the axes\n",
    "left, width = 0.1, 0.65\n",
    "bottom, height = 0.1, 0.65\n",
    "spacing = 0.005\n",
    "\n",
    "rect_scatter = [left, bottom, width, height]\n",
    "rect_histx = [left, bottom + height + spacing, width, 0.2]\n",
    "rect_histy = [left + width + spacing, bottom, 0.2, height]\n",
    "\n",
    "# start with a rectangular Figure\n",
    "fig = plt.figure(figsize=(8, 8))\n",
    "\n",
    "ax_scatter = plt.axes(rect_scatter)\n",
    "ax_scatter.tick_params(direction='in', top=True, right=True)\n",
    "plt.xlabel('Pre-activation', fontsize=14)\n",
    "plt.ylabel('Post-activation', fontsize=14)\n",
    "\n",
    "ax_histx = plt.axes(rect_histx)\n",
    "ax_histx.tick_params(direction='in', labelbottom=False)\n",
    "ax_histy = plt.axes(rect_histy)\n",
    "ax_histy.tick_params(direction='in', labelleft=False)\n",
    "ax_scatter.set_yticks([0,100,200,300,400])\n",
    "ax_scatter.set_yticklabels([0,100,200,300,400], fontsize=14)\n",
    "ax_scatter.set_xticks([-6, -4, -2, 0, 2, 4, 6])\n",
    "ax_scatter.set_xticklabels([-6, -4, -2, 0, 2, 4, 6], fontsize=14)\n",
    "\n",
    "# the scatter plot:\n",
    "ax_scatter.scatter(x2, x, alpha=0.1, rasterized=True)\n",
    "\n",
    "# now determine nice limits by hand:\n",
    "binwidth = 0.25\n",
    "ax_scatter.set_xlim((-6, 7))\n",
    "ax_scatter.set_ylim((-0, 450))\n",
    "\n",
    "bins = np.arange(-6,6 + binwidth, binwidth)\n",
    "ax_histx.hist(x2, bins=bins)\n",
    "ax_histx.spines['top'].set_visible(False)\n",
    "ax_histx.spines['right'].set_visible(False)\n",
    "ax_histx.set_yticks([40000,80000])\n",
    "ax_histx.set_yticklabels([40000,80000], fontsize=14)\n",
    "\n",
    "ax_histy.hist(x, bins=30, orientation='horizontal')\n",
    "ax_histy.spines['top'].set_visible(False)\n",
    "ax_histy.spines['right'].set_visible(False)\n",
    "ax_histy.set_xticks([150000])\n",
    "ax_histy.set_xticklabels([150000], fontsize=14)\n",
    "\n",
    "ax_histx.set_xlim(ax_scatter.get_xlim())\n",
    "ax_histy.set_ylim(ax_scatter.get_ylim())\n",
    "\n",
    "outfile = os.path.join(results_path, 'pre-post_activation_exp_random.pdf')\n",
    "fig.savefig(outfile, format='pdf', dpi=200, bbox_inches='tight')"
   ]
  },
  {
   "cell_type": "markdown",
   "metadata": {},
   "source": [
    "#### Plot the activations of CNN-deep with relu activations prior to training"
   ]
  },
  {
   "cell_type": "code",
   "execution_count": 11,
   "metadata": {},
   "outputs": [
    {
     "data": {
      "image/png": "[encoded data removed]",
      "text/plain": [
       "<Figure size 576x576 with 3 Axes>"
      ]
     },
     "metadata": {
      "needs_background": "light"
     },
     "output_type": "display_data"
    }
   ],
   "source": [
    "# definitions for the axes\n",
    "left, width = 0.1, 0.65\n",
    "bottom, height = 0.1, 0.65\n",
    "spacing = 0.005\n",
    "\n",
    "rect_scatter = [left, bottom, width, height]\n",
    "rect_histx = [left, bottom + height + spacing, width, 0.2]\n",
    "rect_histy = [left + width + spacing, bottom, 0.2, height]\n",
    "\n",
    "# start with a rectangular Figure\n",
    "fig = plt.figure(figsize=(8, 8))\n",
    "\n",
    "ax_scatter = plt.axes(rect_scatter)\n",
    "ax_scatter.tick_params(direction='in', top=True, right=True)\n",
    "plt.xlabel('Pre-activation', fontsize=14)\n",
    "plt.ylabel('Post-activation', fontsize=14)\n",
    "\n",
    "ax_histx = plt.axes(rect_histx)\n",
    "ax_histx.tick_params(direction='in', labelbottom=False)\n",
    "ax_histy = plt.axes(rect_histy)\n",
    "ax_histy.tick_params(direction='in', labelleft=False)\n",
    "ax_scatter.set_yticks([0,1,2])\n",
    "ax_scatter.set_yticklabels([0,1,2], fontsize=14)\n",
    "ax_scatter.set_xticks([-6, -4, -2, 0, 2, 4, 6])\n",
    "ax_scatter.set_xticklabels([-6, -4, -2, 0, 2, 4, 6], fontsize=14)\n",
    "\n",
    "# the scatter plot:\n",
    "ax_scatter.scatter(y2,y, alpha=0.1, rasterized=True)\n",
    "\n",
    "# now determine nice limits by hand:\n",
    "binwidth = 0.25\n",
    "ax_scatter.set_xlim((-6, 7))\n",
    "ax_scatter.set_ylim((-0, 3))\n",
    "\n",
    "bins = np.arange(-6,6 + binwidth, binwidth)\n",
    "ax_histx.hist(y2, bins=bins)\n",
    "ax_histx.spines['top'].set_visible(False)\n",
    "ax_histx.spines['right'].set_visible(False)\n",
    "ax_histx.set_yticks([40000, 80000])\n",
    "ax_histx.set_yticklabels([40000, 80000], fontsize=14)\n",
    "\n",
    "ax_histy.hist(y, bins=20, orientation='horizontal')\n",
    "ax_histy.spines['top'].set_visible(False)\n",
    "ax_histy.spines['right'].set_visible(False)\n",
    "ax_histy.set_xticks([300000])\n",
    "ax_histy.set_xticklabels([300000], fontsize=14)\n",
    "\n",
    "ax_histx.set_xlim(ax_scatter.get_xlim())\n",
    "ax_histy.set_ylim(ax_scatter.get_ylim())\n",
    "\n",
    "outfile = os.path.join(results_path, 'pre-post_activation_relu_random.pdf')\n",
    "fig.savefig(outfile, format='pdf', dpi=200, bbox_inches='tight')\n"
   ]
  },
  {
   "cell_type": "markdown",
   "metadata": {},
   "source": [
    "## Now plot pre and post activations in first layer after training"
   ]
  },
  {
   "cell_type": "code",
   "execution_count": null,
   "metadata": {},
   "outputs": [],
   "source": [
    "num_trials = 1\n",
    "model_names = ['cnn-deep']# deep', 'cnn-25', 'cnn-4'] #\n",
    "activations = ['exponential', 'relu']\n",
    "\n",
    "results_path = utils.make_directory('../results', 'synthetic')\n",
    "params_path = utils.make_directory(results_path, 'model_params')\n",
    "\n",
    "results = {}\n",
    "results2 = {}\n",
    "for model_name in model_names:\n",
    "    for activation in activations:\n",
    "        results[model_name+'_'+activation] = []\n",
    "        results2[model_name+'_'+activation] = []\n",
    "        for trial in range(num_trials):\n",
    "            keras.backend.clear_session()\n",
    "            \n",
    "            # load model\n",
    "            model, name = helper.load_model(model_name, \n",
    "                                            activation=activation, \n",
    "                                            dropout=True, \n",
    "                                            l2=1e-6, \n",
    "                                            bn=True,\n",
    "                                            input_shape=200)\n",
    "            base_name = name+'_'+activation\n",
    "            name = base_name+'_'+str(trial)\n",
    "            print('model: ' + name)\n",
    "\n",
    "            # load pretrained weights\n",
    "            weights_path = os.path.join(params_path, name+'.hdf5')\n",
    "            model.load_weights(weights_path)            \n",
    "            \n",
    "            # after activations \n",
    "            intermediate = keras.Model(inputs=model.inputs, outputs=model.layers[3].output)\n",
    "            results[model_name+'_'+activation].append(intermediate.predict(X))\n",
    "        \n",
    "            # before activations         \n",
    "            intermediate2 = keras.Model(inputs=model.inputs, outputs=model.layers[2].output)\n",
    "            results2[model_name+'_'+activation].append(intermediate2.predict(X))\n",
    "        "
   ]
  },
  {
   "cell_type": "code",
   "execution_count": null,
   "metadata": {},
   "outputs": [],
   "source": [
    "x = np.reshape(np.array(results['cnn-deep_exponential'])[0][:100], [-1])\n",
    "y = np.reshape(np.array(results['cnn-deep_relu'])[0][:100], [-1])\n",
    "x2 = np.reshape(np.array(results2['cnn-deep_exponential'])[0][:100], [-1])\n",
    "y2 = np.reshape(np.array(results2['cnn-deep_relu'])[0][:100], [-1])    "
   ]
  },
  {
   "cell_type": "markdown",
   "metadata": {},
   "source": [
    "#### Plot the activations of CNN-deep with exponential activations after training"
   ]
  },
  {
   "cell_type": "code",
   "execution_count": null,
   "metadata": {},
   "outputs": [],
   "source": [
    "# definitions for the axes\n",
    "left, width = 0.1, 0.65\n",
    "bottom, height = 0.1, 0.65\n",
    "spacing = 0.005\n",
    "\n",
    "rect_scatter = [left, bottom, width, height]\n",
    "rect_histx = [left, bottom + height + spacing, width, 0.2]\n",
    "rect_histy = [left + width + spacing, bottom, 0.2, height]\n",
    "\n",
    "# start with a rectangular Figure\n",
    "fig = plt.figure(figsize=(8, 8))\n",
    "\n",
    "ax_scatter = plt.axes(rect_scatter)\n",
    "ax_scatter.tick_params(direction='in', top=True, right=True)\n",
    "plt.xlabel('Pre-activation', fontsize=14)\n",
    "plt.ylabel('Post-activation', fontsize=14)\n",
    "\n",
    "ax_histx = plt.axes(rect_histx)\n",
    "ax_histx.tick_params(direction='in', labelbottom=False)\n",
    "ax_histy = plt.axes(rect_histy)\n",
    "ax_histy.tick_params(direction='in', labelleft=False)\n",
    "ax_scatter.set_yticks([0,100,200,300,400])\n",
    "ax_scatter.set_yticklabels([0,100,200,300,400], fontsize=14)\n",
    "ax_scatter.set_xticks([-6, -4, -2, 0, 2, 4, 6])\n",
    "ax_scatter.set_xticklabels([-6, -4, -2, 0, 2, 4, 6], fontsize=14)\n",
    "\n",
    "# the scatter plot:\n",
    "ax_scatter.scatter(x2, x, alpha=0.1, rasterized=True)\n",
    "\n",
    "# now determine nice limits by hand:\n",
    "binwidth = 0.25\n",
    "ax_scatter.set_xlim((-6, 7))\n",
    "ax_scatter.set_ylim((-0, 450))\n",
    "\n",
    "bins = np.arange(-6,6 + binwidth, binwidth)\n",
    "ax_histx.hist(x2, bins=bins)\n",
    "ax_histx.spines['top'].set_visible(False)\n",
    "ax_histx.spines['right'].set_visible(False)\n",
    "ax_histx.set_yticks([40000,80000])\n",
    "ax_histx.set_yticklabels([40000,80000], fontsize=14)\n",
    "\n",
    "ax_histy.hist(x, bins=30, orientation='horizontal')\n",
    "ax_histy.spines['top'].set_visible(False)\n",
    "ax_histy.spines['right'].set_visible(False)\n",
    "ax_histy.set_xticks([150000])\n",
    "ax_histy.set_xticklabels([150000], fontsize=14)\n",
    "\n",
    "ax_histx.set_xlim(ax_scatter.get_xlim())\n",
    "ax_histy.set_ylim(ax_scatter.get_ylim())\n",
    "\n",
    "outfile = os.path.join(results_path, 'pre-post_activation_exp_trained.pdf')\n",
    "fig.savefig(outfile, format='pdf', dpi=200, bbox_inches='tight')"
   ]
  },
  {
   "cell_type": "markdown",
   "metadata": {},
   "source": [
    "#### Plot the activations of CNN-deep with relu activations after training"
   ]
  },
  {
   "cell_type": "code",
   "execution_count": 10,
   "metadata": {},
   "outputs": [
    {
     "data": {
      "image/png": "[encoded data removed]",
      "text/plain": [
       "<Figure size 576x576 with 3 Axes>"
      ]
     },
     "metadata": {
      "needs_background": "light"
     },
     "output_type": "display_data"
    }
   ],
   "source": [
    "           \n",
    "# definitions for the axes\n",
    "left, width = 0.1, 0.65\n",
    "bottom, height = 0.1, 0.65\n",
    "spacing = 0.005\n",
    "\n",
    "rect_scatter = [left, bottom, width, height]\n",
    "rect_histx = [left, bottom + height + spacing, width, 0.2]\n",
    "rect_histy = [left + width + spacing, bottom, 0.2, height]\n",
    "\n",
    "# start with a rectangular Figure\n",
    "fig = plt.figure(figsize=(8, 8))\n",
    "\n",
    "ax_scatter = plt.axes(rect_scatter)\n",
    "ax_scatter.tick_params(direction='in', top=True, right=True)\n",
    "plt.xlabel('Pre-activation', fontsize=14)\n",
    "plt.ylabel('Post-activation', fontsize=14)\n",
    "\n",
    "ax_histx = plt.axes(rect_histx)\n",
    "ax_histx.tick_params(direction='in', labelbottom=False)\n",
    "ax_histy = plt.axes(rect_histy)\n",
    "ax_histy.tick_params(direction='in', labelleft=False)\n",
    "ax_scatter.set_yticks([0,1,2])\n",
    "ax_scatter.set_yticklabels([0,1,2], fontsize=14)\n",
    "ax_scatter.set_xticks([-6, -4, -2, 0, 2, 4, 6])\n",
    "ax_scatter.set_xticklabels([-6, -4, -2, 0, 2, 4, 6], fontsize=14)\n",
    "\n",
    "# the scatter plot:\n",
    "ax_scatter.scatter(y2,y, alpha=0.1, rasterized=True)\n",
    "\n",
    "# now determine nice limits by hand:\n",
    "binwidth = 0.25\n",
    "ax_scatter.set_xlim((-6, 7))\n",
    "ax_scatter.set_ylim((-0, 3))\n",
    "\n",
    "bins = np.arange(-6,6 + binwidth, binwidth)\n",
    "ax_histx.hist(y2, bins=bins)\n",
    "ax_histx.spines['top'].set_visible(False)\n",
    "ax_histx.spines['right'].set_visible(False)\n",
    "ax_histx.set_yticks([20000,40000, 60000])\n",
    "ax_histx.set_yticklabels([20000,40000, 60000], fontsize=14)\n",
    "\n",
    "ax_histy.hist(y, bins=20, orientation='horizontal')\n",
    "ax_histy.spines['top'].set_visible(False)\n",
    "ax_histy.spines['right'].set_visible(False)\n",
    "ax_histy.set_xticks([300000])\n",
    "ax_histy.set_xticklabels([300000], fontsize=14)\n",
    "\n",
    "ax_histx.set_xlim(ax_scatter.get_xlim())\n",
    "ax_histy.set_ylim(ax_scatter.get_ylim())\n",
    "\n",
    "outfile = os.path.join(results_path, 'pre-post_activation_relu_trained.pdf')\n",
    "fig.savefig(outfile, format='pdf', dpi=200, bbox_inches='tight')\n"
   ]
  },
  {
   "cell_type": "code",
   "execution_count": null,
   "metadata": {},
   "outputs": [],
   "source": []
  },
  {
   "cell_type": "code",
   "execution_count": null,
   "metadata": {},
   "outputs": [],
   "source": []
  }
 ],
 "metadata": {
  "kernelspec": {
   "display_name": "Python 3",
   "language": "python",
   "name": "python3"
  },
  "language_info": {
   "codemirror_mode": {
    "name": "ipython",
    "version": 3
   },
   "file_extension": ".py",
   "mimetype": "text/x-python",
   "name": "python",
   "nbconvert_exporter": "python",
   "pygments_lexer": "ipython3",
   "version": "3.7.0b3"
  }
 },
 "nbformat": 4,
 "nbformat_minor": 2
}
