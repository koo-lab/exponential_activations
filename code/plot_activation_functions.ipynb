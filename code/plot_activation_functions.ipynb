{
 "cells": [
  {
   "cell_type": "markdown",
   "metadata": {},
   "source": [
    "# Notebook generates plots of activation functions\n",
    "\n",
    "Figures generated include:\n",
    "- Fig. 1a\n",
    "- Supp Fig. 7\n",
    "\n"
   ]
  },
  {
   "cell_type": "code",
   "execution_count": null,
   "metadata": {},
   "outputs": [],
   "source": [
    "import os\n",
    "import numpy as np\n",
    "import matplotlib.pyplot as plt\n",
    "%matplotlib inline"
   ]
  },
  {
   "cell_type": "code",
   "execution_count": null,
   "metadata": {},
   "outputs": [],
   "source": [
    "x = np.linspace(-5,5,50)\n",
    "x_neg = np.linspace(-5,0,50)\n",
    "x_pos = np.linspace(0, 5,50)\n",
    "x_elu = np.concatenate([x_neg, x_pos])\n",
    "elu = np.concatenate([.5*(np.exp(x_neg)-1), x_pos])\n",
    "    \n",
    "fig = plt.figure(figsize=(5,5))\n",
    "ax = plt.subplot(111)\n",
    "plt.plot(x, np.exp(x), linewidth=2, alpha=0.7)\n",
    "plt.plot(x, np.maximum(x,0), linewidth=2, alpha=0.7)\n",
    "plt.plot(x, 1/(1+np.exp(-x)), linewidth=2, alpha=0.7)\n",
    "plt.plot(x, np.tanh(x), linewidth=2, alpha=0.7)\n",
    "plt.plot(x, np.log(1+np.exp(x)), linewidth=2, alpha=0.7)\n",
    "plt.plot(x, x, linewidth=2, alpha=0.7)\n",
    "plt.plot(x_elu, elu, linewidth=2, alpha=0.7)\n",
    "plt.xticks([-4, -2, 0, 2, 4], fontsize=14)\n",
    "plt.yticks([-4, -2, 0, 2, 4], fontsize=14)\n",
    "plt.plot([-5,5], [0, 0], 'k', alpha=0.1)\n",
    "plt.plot([-0,0], [-5, 5], 'k', alpha=0.1)\n",
    "plt.axis('tight')\n",
    "ax.set_ybound([-5, 5])\n",
    "ax.set_xbound([-5, 5])\n",
    "plt.xlabel('x', fontsize=14)\n",
    "plt.ylabel('f(x)', fontsize=14)\n",
    "plt.legend(['Exp', 'Relu', 'Sigmoid', 'Tanh', 'Softplus', 'Linear', 'Elu'], frameon=False, fontsize=12)\n",
    "#          bbox_to_anchor=(1, 1), loc='upper left')\n",
    "\n",
    "outfile = os.path.join('../results', 'activations.pdf')\n",
    "#fig.savefig(outfile, format='pdf', dpi=200, bbox_inches='tight')"
   ]
  },
  {
   "cell_type": "code",
   "execution_count": null,
   "metadata": {},
   "outputs": [],
   "source": [
    "x = np.linspace(-5,5,20)\n",
    "\n",
    "fig = plt.figure(figsize=(5,5))\n",
    "ax = plt.subplot()\n",
    "plt.plot(x, np.exp(x), linewidth=2)\n",
    "plt.plot(x, np.maximum((x-.2)**3,0), linewidth=2)\n",
    "plt.plot(x, 1/(1+np.exp(-(x-8)))*4000, linewidth=2)\n",
    "plt.plot(x, np.tanh(x-5.0)*500+500, linewidth=2)\n",
    "plt.xticks([-4, -2, 0, 2, 4], fontsize=14)\n",
    "plt.yticks([0, 50, 100, 150], fontsize=14)\n",
    "plt.plot([-5,5], [0, 0], 'k', alpha=0.1)\n",
    "plt.plot([-0,0], [-5, 200], 'k', alpha=0.1)\n",
    "ax.set_ybound([-5, 100])\n",
    "ax.set_xbound([-5, 5])\n",
    "plt.xlabel('x', fontsize=14)\n",
    "plt.ylabel('f(x)', fontsize=14)\n",
    "plt.legend(['Exp', 'Modified-Relu', 'Modified-Sigmoid', 'Modified-Tanh'], frameon=False, fontsize=12)\n",
    "outfile = os.path.join('../results', 'modified-activations_zoom.pdf')\n",
    "#fig.savefig(outfile, format='pdf', dpi=200, bbox_inches='tight')"
   ]
  },
  {
   "cell_type": "code",
   "execution_count": null,
   "metadata": {},
   "outputs": [],
   "source": []
  }
 ],
 "metadata": {
  "kernelspec": {
   "display_name": "Python 3",
   "language": "python",
   "name": "python3"
  },
  "language_info": {
   "codemirror_mode": {
    "name": "ipython",
    "version": 3
   },
   "file_extension": ".py",
   "mimetype": "text/x-python",
   "name": "python",
   "nbconvert_exporter": "python",
   "pygments_lexer": "ipython3",
   "version": "3.7.0b3"
  }
 },
 "nbformat": 4,
 "nbformat_minor": 2
}
