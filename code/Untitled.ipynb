{
 "cells": [
  {
   "cell_type": "code",
   "execution_count": null,
   "metadata": {},
   "outputs": [],
   "source": [
    "import os\n",
    "import numpy as np\n",
    "from six.moves import cPickle\n",
    "from tensorflow import keras\n",
    "import helper\n",
    "from tfomics import utils, explain"
   ]
  },
  {
   "cell_type": "code",
   "execution_count": null,
   "metadata": {},
   "outputs": [],
   "source": [
    "num_trials = 10\n",
    "model_names = ['cnn-dist', 'cnn-local']\n",
    "activations = ['relu', 'exponential', 'sigmoid', 'tanh', 'softplus', 'linear', 'elu']\n",
    "\n",
    "\n",
    "results_path = os.path.join('../results', 'task3')\n",
    "params_path = os.path.join(results_path, 'model_params')\n",
    "save_path = utils.make_directory(results_path, 'scores')"
   ]
  },
  {
   "cell_type": "code",
   "execution_count": null,
   "metadata": {},
   "outputs": [],
   "source": [
    "# load data\n",
    "data_path = '../data/synthetic_code_dataset.h5'\n",
    "data = helper.load_data(data_path)\n",
    "x_train, y_train, x_valid, y_valid, x_test, y_test = data\n",
    "\n",
    "# load ground truth values\n",
    "test_model = helper.load_synthetic_models(data_path, dataset='test')\n",
    "true_index = np.where(y_test[:,0] == 1)[0]\n",
    "X = x_test[true_index][:500]\n",
    "X_model = test_model[true_index][:500]"
   ]
  }
 ],
 "metadata": {
  "kernelspec": {
   "display_name": "Python 3",
   "language": "python",
   "name": "python3"
  }
 },
 "nbformat": 4,
 "nbformat_minor": 4
}
