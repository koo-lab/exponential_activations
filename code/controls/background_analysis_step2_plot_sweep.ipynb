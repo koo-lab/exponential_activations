{
 "cells": [
  {
   "cell_type": "markdown",
   "metadata": {},
   "source": [
    "## Plots the control experiment that varies the number of reference sequences for integrated gradients and DeepSHAP (Supplementary Fig. 16)"
   ]
  },
  {
   "cell_type": "code",
   "execution_count": null,
   "metadata": {},
   "outputs": [],
   "source": [
    "import os\n",
    "import numpy as np\n",
    "from six.moves import cPickle\n",
    "import matplotlib.pyplot as plt\n",
    "%matplotlib inline"
   ]
  },
  {
   "cell_type": "code",
   "execution_count": null,
   "metadata": {},
   "outputs": [],
   "source": [
    "results_path = os.path.join('../../results/', 'task3')\n",
    "file_path = os.path.join(results_path, 'num_background_sweep.pickle')\n",
    "with open(file_path, 'rb') as f:\n",
    "    results = cPickle.load(f)"
   ]
  },
  {
   "cell_type": "code",
   "execution_count": null,
   "metadata": {},
   "outputs": [],
   "source": [
    "\n",
    "num_backgrounds = [1, 3, 5, 7, 9, 11, 13, 15, 17, 19, 21, 23, 25]\n",
    "shap_vals_relu = np.mean(results['relu']['deepshap'], axis=2)\n",
    "shap_vals_exp = np.mean(results['exponential']['deepshap'], axis=2)\n",
    "ig_vals_relu = np.mean(results['relu']['integratedgrad'], axis=2)\n",
    "ig_vals_exp = np.mean(results['exponential']['integratedgrad'], axis=2)\n",
    "\n",
    "shap_vals_relu_std = np.std(results['relu']['deepshap'], axis=2)\n",
    "shap_vals_exp_std = np.std(results['exponential']['deepshap'], axis=2)\n",
    "ig_vals_relu_std = np.std(results['relu']['integratedgrad'], axis=2)\n",
    "ig_vals_exp_std = np.std(results['exponential']['integratedgrad'], axis=2)\n"
   ]
  },
  {
   "cell_type": "code",
   "execution_count": null,
   "metadata": {},
   "outputs": [],
   "source": [
    "fig = plt.figure(figsize=(10,7))\n",
    "ax= plt.subplot(2,2,1)\n",
    "x = num_backgrounds\n",
    "y = shap_vals_relu[:,0]\n",
    "ax.plot(x, y)\n",
    "error = shap_vals_relu_std[:,0]\n",
    "ax.fill_between(x, y-error, y+error, alpha=0.3)\n",
    "#plt.plot(num_backgrounds, shap_vals_exp[:,0])\n",
    "y = shap_vals_exp[:,0]\n",
    "ax.plot(x, y)\n",
    "error = shap_vals_exp_std[:,0]\n",
    "ax.fill_between(x, y-error, y+error, alpha=0.3)\n",
    "#plt.xlabel('Number of backgrounds', fontsize=12)\n",
    "plt.ylabel('AUROC', fontsize=12)\n",
    "plt.yticks([0.65, 0.7, 0.75, 0.8, .85], fontsize=12)\n",
    "plt.xticks(num_backgrounds, fontsize=12);\n",
    "ax.tick_params(labelbottom=False) \n",
    "ax.set_ybound([.647,0.865])\n",
    "plt.title('DeepSHAP', fontsize=12)\n",
    "\n",
    "ax = plt.subplot(2,2,3)\n",
    "y = shap_vals_relu[:,1]\n",
    "plt.plot(x, y)\n",
    "error = shap_vals_relu_std[:,1]\n",
    "plt.fill_between(x, y-error, y+error, alpha=0.3)\n",
    "#plt.plot(num_backgrounds, shap_vals_exp[:,0])\n",
    "y = shap_vals_exp[:,1]\n",
    "plt.plot(x, y)\n",
    "error = shap_vals_exp_std[:,1]\n",
    "plt.fill_between(x, y-error, y+error, alpha=0.3)\n",
    "plt.xlabel('Number of backgrounds', fontsize=12)\n",
    "plt.ylabel('AUPR', fontsize=12)\n",
    "plt.yticks([ 0.5, 0.6, 0.7, 0.8], fontsize=12)\n",
    "plt.xticks(num_backgrounds, fontsize=12);\n",
    "ax.set_ybound([.42,0.81])\n",
    "\n",
    "\n",
    "ax = plt.subplot(2,2,2)\n",
    "x = num_backgrounds\n",
    "y = ig_vals_relu[:,0]\n",
    "ax.plot(x, y)\n",
    "error = ig_vals_relu_std[:,0]\n",
    "ax.fill_between(x, y-error, y+error, alpha=0.3)\n",
    "#plt.plot(num_backgrounds, shap_vals_exp[:,0])\n",
    "y = ig_vals_exp[:,0]\n",
    "ax.plot(x, y)\n",
    "error = ig_vals_exp_std[:,0]\n",
    "ax.fill_between(x, y-error, y+error, alpha=0.3)\n",
    "#plt.xlabel('Number of backgrounds', fontsize=12)\n",
    "#plt.ylabel('AUROC', fontsize=12)\n",
    "plt.yticks([0.65, 0.7, 0.75, 0.8, .85], fontsize=12)\n",
    "plt.xticks(num_backgrounds, fontsize=12);\n",
    "ax.tick_params(labelbottom=False) \n",
    "ax.tick_params(labelleft=False) \n",
    "ax.set_ybound([.647,0.865])\n",
    "plt.title('Integrated gradients', fontsize=12)\n",
    "\n",
    "ax = plt.subplot(2,2,4)\n",
    "y = ig_vals_relu[:,1]\n",
    "plt.plot(x, y)\n",
    "error = ig_vals_relu_std[:,1]\n",
    "plt.fill_between(x, y-error, y+error, alpha=0.3)\n",
    "#plt.plot(num_backgrounds, shap_vals_exp[:,0])\n",
    "y = ig_vals_exp[:,1]\n",
    "plt.plot(x, y)\n",
    "error = ig_vals_exp_std[:,1]\n",
    "plt.fill_between(x, y-error, y+error, alpha=0.3)\n",
    "plt.xlabel('Number of backgrounds', fontsize=12)\n",
    "#plt.ylabel('AUPR', fontsize=12)\n",
    "ax.tick_params(labelleft=False) \n",
    "plt.yticks([ 0.5, 0.6, 0.7, 0.8], fontsize=12)\n",
    "ax.set_ybound([.42,0.81])\n",
    "plt.xticks(num_backgrounds, fontsize=12);\n",
    "\n",
    "plt.subplots_adjust(wspace=0.05, hspace=0.08)\n",
    "\n",
    "outfile = os.path.join(results_path, 'task3_num_background_sweep')\n",
    "fig.savefig(outfile, format='pdf', dpi=200, bbox_inches='tight')"
   ]
  },
  {
   "cell_type": "code",
   "execution_count": null,
   "metadata": {},
   "outputs": [],
   "source": []
  }
 ],
 "metadata": {
  "kernelspec": {
   "display_name": "Python 3",
   "language": "python",
   "name": "python3"
  },
  "language_info": {
   "codemirror_mode": {
    "name": "ipython",
    "version": 3
   },
   "file_extension": ".py",
   "mimetype": "text/x-python",
   "name": "python",
   "nbconvert_exporter": "python",
   "pygments_lexer": "ipython3",
   "version": "3.7.0b3"
  }
 },
 "nbformat": 4,
 "nbformat_minor": 2
}
