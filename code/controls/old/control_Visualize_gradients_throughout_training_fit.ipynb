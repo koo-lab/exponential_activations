{
 "cells": [
  {
   "cell_type": "code",
   "execution_count": 1,
   "metadata": {},
   "outputs": [],
   "source": [
    "import os\n",
    "import numpy as np\n",
    "import matplotlib.pyplot as plt\n",
    "%matplotlib inline\n",
    "from tensorflow import keras\n",
    "import helper\n",
    "from tfomics import utils, explain, metrics\n",
    "from tensorflow.keras import backend as K"
   ]
  },
  {
   "cell_type": "code",
   "execution_count": 2,
   "metadata": {},
   "outputs": [],
   "source": [
    "# load dataset\n",
    "data_path = '../../data/synthetic_dataset.h5'\n",
    "data = helper.load_data(data_path)\n",
    "x_train, y_train, x_valid, y_valid, x_test, y_test = data"
   ]
  },
  {
   "cell_type": "code",
   "execution_count": 3,
   "metadata": {},
   "outputs": [],
   "source": [
    "# Define the Gradient Function\n",
    "def get_gradient_func(model):\n",
    "    grads = K.gradients(model.total_loss, model.layers[1].kernel)\n",
    "    inputs = model._feed_inputs + model._feed_targets\n",
    "    func = K.function(inputs, grads)\n",
    "    return func\n",
    "\n",
    "# Define the Required Callback Function\n",
    "class GradientCalcCallback(keras.callbacks.Callback):\n",
    "    def on_epoch_end(self, epoch, logs=None):\n",
    "        get_gradient = get_gradient_func(model)\n",
    "        grads = get_gradient([x_train, y_train])\n",
    "        epoch_gradient.append(grads)\n",
    "      "
   ]
  },
  {
   "cell_type": "code",
   "execution_count": 43,
   "metadata": {
    "scrolled": true
   },
   "outputs": [
    {
     "name": "stdout",
     "output_type": "stream",
     "text": [
      "Train on 21000 samples, validate on 3000 samples\n",
      "Epoch 1/100\n",
      "21000/21000 [==============================] - 10s 473us/sample - loss: 0.4829 - accuracy: 0.8323 - auroc: 0.5175 - aupr: 0.1528 - val_loss: 0.4296 - val_accuracy: 0.8557 - val_auroc: 0.5061 - val_aupr: 0.1505\n",
      "Epoch 2/100\n",
      "21000/21000 [==============================] - 9s 425us/sample - loss: 0.4356 - accuracy: 0.8506 - auroc: 0.5543 - aupr: 0.1735 - val_loss: 0.4114 - val_accuracy: 0.8557 - val_auroc: 0.5741 - val_aupr: 0.1994\n",
      "Epoch 3/100\n",
      "21000/21000 [==============================] - 11s 501us/sample - loss: 0.4101 - accuracy: 0.8542 - auroc: 0.6147 - aupr: 0.2283 - val_loss: 0.3876 - val_accuracy: 0.8633 - val_auroc: 0.6485 - val_aupr: 0.2910\n",
      "Epoch 4/100\n",
      "21000/21000 [==============================] - 11s 542us/sample - loss: 0.3851 - accuracy: 0.8601 - auroc: 0.6767 - aupr: 0.3149 - val_loss: 0.4106 - val_accuracy: 0.8570 - val_auroc: 0.6367 - val_aupr: 0.2560\n",
      "Epoch 5/100\n",
      "21000/21000 [==============================] - 12s 554us/sample - loss: 0.3642 - accuracy: 0.8658 - auroc: 0.7227 - aupr: 0.3861 - val_loss: 0.4547 - val_accuracy: 0.8565 - val_auroc: 0.6158 - val_aupr: 0.2286\n",
      "Epoch 6/100\n",
      "21000/21000 [==============================] - 13s 600us/sample - loss: 0.3464 - accuracy: 0.8715 - auroc: 0.7583 - aupr: 0.4445 - val_loss: 0.4967 - val_accuracy: 0.8565 - val_auroc: 0.6178 - val_aupr: 0.2359\n",
      "Epoch 7/100\n",
      "21000/21000 [==============================] - 14s 681us/sample - loss: 0.3306 - accuracy: 0.8764 - auroc: 0.7859 - aupr: 0.4900 - val_loss: 0.4825 - val_accuracy: 0.8575 - val_auroc: 0.6369 - val_aupr: 0.2534\n",
      "Epoch 8/100\n",
      "21000/21000 [==============================] - 15s 738us/sample - loss: 0.3165 - accuracy: 0.8816 - auroc: 0.8083 - aupr: 0.5321 - val_loss: 0.4641 - val_accuracy: 0.8578 - val_auroc: 0.6710 - val_aupr: 0.2898\n",
      "Epoch 9/100\n",
      "21000/21000 [==============================] - 16s 777us/sample - loss: 0.3031 - accuracy: 0.8860 - auroc: 0.8297 - aupr: 0.5690 - val_loss: 0.4231 - val_accuracy: 0.8629 - val_auroc: 0.7354 - val_aupr: 0.3809\n",
      "Epoch 10/100\n",
      "21000/21000 [==============================] - 17s 830us/sample - loss: 0.2882 - accuracy: 0.8912 - auroc: 0.8498 - aupr: 0.6084 - val_loss: 0.4351 - val_accuracy: 0.8633 - val_auroc: 0.7454 - val_aupr: 0.3913\n",
      "Epoch 11/100\n",
      "21000/21000 [==============================] - 18s 879us/sample - loss: 0.2754 - accuracy: 0.8965 - auroc: 0.8655 - aupr: 0.6403 - val_loss: 0.4020 - val_accuracy: 0.8683 - val_auroc: 0.7774 - val_aupr: 0.4397\n",
      "Epoch 12/100\n",
      "21000/21000 [==============================] - 19s 904us/sample - loss: 0.2621 - accuracy: 0.9018 - auroc: 0.8807 - aupr: 0.6719 - val_loss: 0.3833 - val_accuracy: 0.8680 - val_auroc: 0.7960 - val_aupr: 0.4631\n",
      "Epoch 13/100\n",
      "21000/21000 [==============================] - 20s 938us/sample - loss: 0.2514 - accuracy: 0.9053 - auroc: 0.8926 - aupr: 0.6967 - val_loss: 0.3810 - val_accuracy: 0.8691 - val_auroc: 0.8032 - val_aupr: 0.4789\n",
      "Epoch 14/100\n",
      "21000/21000 [==============================] - 21s 1ms/sample - loss: 0.2389 - accuracy: 0.9096 - auroc: 0.9057 - aupr: 0.7241 - val_loss: 0.3244 - val_accuracy: 0.8828 - val_auroc: 0.8474 - val_aupr: 0.5852\n",
      "Epoch 15/100\n",
      "21000/21000 [==============================] - 22s 1ms/sample - loss: 0.2251 - accuracy: 0.9148 - auroc: 0.9179 - aupr: 0.7532 - val_loss: 0.2873 - val_accuracy: 0.8935 - val_auroc: 0.8892 - val_aupr: 0.6736\n",
      "Epoch 16/100\n",
      "21000/21000 [==============================] - 22s 1ms/sample - loss: 0.2082 - accuracy: 0.9216 - auroc: 0.9309 - aupr: 0.7865 - val_loss: 0.2734 - val_accuracy: 0.8972 - val_auroc: 0.9174 - val_aupr: 0.7397\n",
      "Epoch 17/100\n",
      "21000/21000 [==============================] - 24s 1ms/sample - loss: 0.1950 - accuracy: 0.9277 - auroc: 0.9394 - aupr: 0.8105 - val_loss: 0.2396 - val_accuracy: 0.9089 - val_auroc: 0.9324 - val_aupr: 0.7816\n",
      "Epoch 18/100\n",
      "21000/21000 [==============================] - 25s 1ms/sample - loss: 0.1849 - accuracy: 0.9318 - auroc: 0.9456 - aupr: 0.8277 - val_loss: 0.2145 - val_accuracy: 0.9174 - val_auroc: 0.9487 - val_aupr: 0.8409\n",
      "Epoch 19/100\n",
      "21000/21000 [==============================] - 25s 1ms/sample - loss: 0.1774 - accuracy: 0.9350 - auroc: 0.9501 - aupr: 0.8397 - val_loss: 0.1870 - val_accuracy: 0.9290 - val_auroc: 0.9576 - val_aupr: 0.8705\n",
      "Epoch 20/100\n",
      "21000/21000 [==============================] - 40s 2ms/sample - loss: 0.1696 - accuracy: 0.9380 - auroc: 0.9548 - aupr: 0.8509 - val_loss: 0.1770 - val_accuracy: 0.9331 - val_auroc: 0.9606 - val_aupr: 0.8785\n",
      "Epoch 21/100\n",
      "21000/21000 [==============================] - 28s 1ms/sample - loss: 0.1643 - accuracy: 0.9399 - auroc: 0.9572 - aupr: 0.8594 - val_loss: 0.1769 - val_accuracy: 0.9324 - val_auroc: 0.9594 - val_aupr: 0.8784\n",
      "Epoch 22/100\n",
      "21000/21000 [==============================] - 29s 1ms/sample - loss: 0.1610 - accuracy: 0.9412 - auroc: 0.9593 - aupr: 0.8637 - val_loss: 0.1603 - val_accuracy: 0.9396 - val_auroc: 0.9671 - val_aupr: 0.8924\n",
      "Epoch 23/100\n",
      "21000/21000 [==============================] - 29s 1ms/sample - loss: 0.1581 - accuracy: 0.9420 - auroc: 0.9611 - aupr: 0.8676 - val_loss: 0.1546 - val_accuracy: 0.9415 - val_auroc: 0.9695 - val_aupr: 0.9002\n",
      "Epoch 24/100\n",
      "21000/21000 [==============================] - 31s 1ms/sample - loss: 0.1548 - accuracy: 0.9432 - auroc: 0.9625 - aupr: 0.8719 - val_loss: 0.1529 - val_accuracy: 0.9434 - val_auroc: 0.9685 - val_aupr: 0.9000\n",
      "Epoch 25/100\n",
      "21000/21000 [==============================] - 31s 1ms/sample - loss: 0.1520 - accuracy: 0.9446 - auroc: 0.9637 - aupr: 0.8760 - val_loss: 0.1529 - val_accuracy: 0.9431 - val_auroc: 0.9697 - val_aupr: 0.8975\n",
      "Epoch 26/100\n",
      "21000/21000 [==============================] - 33s 2ms/sample - loss: 0.1489 - accuracy: 0.9453 - auroc: 0.9656 - aupr: 0.8807 - val_loss: 0.1470 - val_accuracy: 0.9450 - val_auroc: 0.9720 - val_aupr: 0.9057\n",
      "Epoch 27/100\n",
      "21000/21000 [==============================] - 34s 2ms/sample - loss: 0.1470 - accuracy: 0.9457 - auroc: 0.9663 - aupr: 0.8831 - val_loss: 0.1492 - val_accuracy: 0.9461 - val_auroc: 0.9700 - val_aupr: 0.9048\n",
      "Epoch 28/100\n",
      "21000/21000 [==============================] - 35s 2ms/sample - loss: 0.1454 - accuracy: 0.9466 - auroc: 0.9674 - aupr: 0.8842 - val_loss: 0.1444 - val_accuracy: 0.9480 - val_auroc: 0.9732 - val_aupr: 0.9096\n",
      "Epoch 29/100\n",
      "21000/21000 [==============================] - 36s 2ms/sample - loss: 0.1446 - accuracy: 0.9470 - auroc: 0.9677 - aupr: 0.8857 - val_loss: 0.1427 - val_accuracy: 0.9479 - val_auroc: 0.9708 - val_aupr: 0.9033\n",
      "Epoch 30/100\n",
      "21000/21000 [==============================] - 34s 2ms/sample - loss: 0.1423 - accuracy: 0.9475 - auroc: 0.9691 - aupr: 0.8885 - val_loss: 0.1388 - val_accuracy: 0.9486 - val_auroc: 0.9730 - val_aupr: 0.9082\n",
      "Epoch 31/100\n",
      "21000/21000 [==============================] - 33s 2ms/sample - loss: 0.1410 - accuracy: 0.9477 - auroc: 0.9696 - aupr: 0.8914 - val_loss: 0.1404 - val_accuracy: 0.9487 - val_auroc: 0.9723 - val_aupr: 0.9088\n",
      "Epoch 32/100\n",
      "21000/21000 [==============================] - 33s 2ms/sample - loss: 0.1402 - accuracy: 0.9485 - auroc: 0.9697 - aupr: 0.8921 - val_loss: 0.1405 - val_accuracy: 0.9487 - val_auroc: 0.9731 - val_aupr: 0.9083\n",
      "Epoch 33/100\n",
      "20900/21000 [============================>.] - ETA: 0s - loss: 0.1391 - accuracy: 0.9485 - auroc: 0.9704 - aupr: 0.8933\n",
      "Epoch 00033: ReduceLROnPlateau reducing learning rate to 0.00020000000949949026.\n",
      "21000/21000 [==============================] - 38s 2ms/sample - loss: 0.1391 - accuracy: 0.9485 - auroc: 0.9704 - aupr: 0.8933 - val_loss: 0.1405 - val_accuracy: 0.9495 - val_auroc: 0.9728 - val_aupr: 0.9066\n",
      "Epoch 34/100\n",
      "21000/21000 [==============================] - 35s 2ms/sample - loss: 0.1332 - accuracy: 0.9506 - auroc: 0.9730 - aupr: 0.9010 - val_loss: 0.1394 - val_accuracy: 0.9494 - val_auroc: 0.9730 - val_aupr: 0.9098\n",
      "Epoch 35/100\n",
      "21000/21000 [==============================] - 37s 2ms/sample - loss: 0.1303 - accuracy: 0.9518 - auroc: 0.9747 - aupr: 0.9043 - val_loss: 0.1398 - val_accuracy: 0.9488 - val_auroc: 0.9733 - val_aupr: 0.9107\n",
      "Epoch 36/100\n",
      "21000/21000 [==============================] - 37s 2ms/sample - loss: 0.1309 - accuracy: 0.9515 - auroc: 0.9745 - aupr: 0.9034 - val_loss: 0.1386 - val_accuracy: 0.9501 - val_auroc: 0.9732 - val_aupr: 0.9110\n"
     ]
    },
    {
     "name": "stdout",
     "output_type": "stream",
     "text": [
      "Epoch 37/100\n",
      "21000/21000 [==============================] - 37s 2ms/sample - loss: 0.1289 - accuracy: 0.9522 - auroc: 0.9752 - aupr: 0.9059 - val_loss: 0.1387 - val_accuracy: 0.9500 - val_auroc: 0.9737 - val_aupr: 0.9118\n",
      "Epoch 38/100\n",
      "21000/21000 [==============================] - 49s 2ms/sample - loss: 0.1289 - accuracy: 0.9522 - auroc: 0.9752 - aupr: 0.9065 - val_loss: 0.1384 - val_accuracy: 0.9503 - val_auroc: 0.9736 - val_aupr: 0.9114\n",
      "Epoch 39/100\n",
      "21000/21000 [==============================] - 40s 2ms/sample - loss: 0.1274 - accuracy: 0.9529 - auroc: 0.9759 - aupr: 0.9081 - val_loss: 0.1384 - val_accuracy: 0.9503 - val_auroc: 0.9735 - val_aupr: 0.9119\n",
      "Epoch 40/100\n",
      "21000/21000 [==============================] - 40s 2ms/sample - loss: 0.1269 - accuracy: 0.9530 - auroc: 0.9759 - aupr: 0.9090 - val_loss: 0.1382 - val_accuracy: 0.9501 - val_auroc: 0.9728 - val_aupr: 0.9115\n",
      "Epoch 41/100\n",
      "21000/21000 [==============================] - 41s 2ms/sample - loss: 0.1265 - accuracy: 0.9529 - auroc: 0.9760 - aupr: 0.9092 - val_loss: 0.1385 - val_accuracy: 0.9508 - val_auroc: 0.9729 - val_aupr: 0.9119\n",
      "Epoch 42/100\n",
      "20800/21000 [============================>.] - ETA: 0s - loss: 0.1272 - accuracy: 0.9530 - auroc: 0.9755 - aupr: 0.9090\n",
      "Epoch 00042: ReduceLROnPlateau reducing learning rate to 4.0000001899898055e-05.\n",
      "21000/21000 [==============================] - 42s 2ms/sample - loss: 0.1273 - accuracy: 0.9530 - auroc: 0.9755 - aupr: 0.9090 - val_loss: 0.1384 - val_accuracy: 0.9505 - val_auroc: 0.9724 - val_aupr: 0.9117\n",
      "Epoch 43/100\n",
      "21000/21000 [==============================] - 42s 2ms/sample - loss: 0.1256 - accuracy: 0.9535 - auroc: 0.9764 - aupr: 0.9100 - val_loss: 0.1375 - val_accuracy: 0.9507 - val_auroc: 0.9729 - val_aupr: 0.9122\n",
      "Epoch 44/100\n",
      "21000/21000 [==============================] - 43s 2ms/sample - loss: 0.1254 - accuracy: 0.9532 - auroc: 0.9767 - aupr: 0.9104 - val_loss: 0.1374 - val_accuracy: 0.9507 - val_auroc: 0.9729 - val_aupr: 0.9122\n",
      "Epoch 45/100\n",
      "21000/21000 [==============================] - 44s 2ms/sample - loss: 0.1251 - accuracy: 0.9532 - auroc: 0.9769 - aupr: 0.9108 - val_loss: 0.1375 - val_accuracy: 0.9506 - val_auroc: 0.9727 - val_aupr: 0.9122\n",
      "Epoch 46/100\n",
      "21000/21000 [==============================] - 45s 2ms/sample - loss: 0.1258 - accuracy: 0.9530 - auroc: 0.9765 - aupr: 0.9105 - val_loss: 0.1374 - val_accuracy: 0.9508 - val_auroc: 0.9730 - val_aupr: 0.9124\n",
      "Epoch 47/100\n",
      "20800/21000 [============================>.] - ETA: 0s - loss: 0.1259 - accuracy: 0.9530 - auroc: 0.9764 - aupr: 0.9100\n",
      "Epoch 00047: ReduceLROnPlateau reducing learning rate to 8.000000525498762e-06.\n",
      "21000/21000 [==============================] - 46s 2ms/sample - loss: 0.1259 - accuracy: 0.9530 - auroc: 0.9764 - aupr: 0.9100 - val_loss: 0.1370 - val_accuracy: 0.9508 - val_auroc: 0.9730 - val_aupr: 0.9123\n",
      "Epoch 48/100\n",
      "21000/21000 [==============================] - 46s 2ms/sample - loss: 0.1243 - accuracy: 0.9535 - auroc: 0.9772 - aupr: 0.9121 - val_loss: 0.1368 - val_accuracy: 0.9511 - val_auroc: 0.9733 - val_aupr: 0.9126\n",
      "Epoch 49/100\n",
      "21000/21000 [==============================] - 48s 2ms/sample - loss: 0.1253 - accuracy: 0.9528 - auroc: 0.9769 - aupr: 0.9109 - val_loss: 0.1371 - val_accuracy: 0.9510 - val_auroc: 0.9729 - val_aupr: 0.9123\n",
      "Epoch 50/100\n",
      "21000/21000 [==============================] - 48s 2ms/sample - loss: 0.1241 - accuracy: 0.9537 - auroc: 0.9770 - aupr: 0.9125 - val_loss: 0.1372 - val_accuracy: 0.9511 - val_auroc: 0.9730 - val_aupr: 0.9123\n",
      "Epoch 51/100\n",
      "21000/21000 [==============================] - 49s 2ms/sample - loss: 0.1243 - accuracy: 0.9537 - auroc: 0.9770 - aupr: 0.9124 - val_loss: 0.1373 - val_accuracy: 0.9509 - val_auroc: 0.9730 - val_aupr: 0.9124\n",
      "Epoch 52/100\n",
      "20800/21000 [============================>.] - ETA: 0s - loss: 0.1245 - accuracy: 0.9532 - auroc: 0.9771 - aupr: 0.9114\n",
      "Epoch 00052: ReduceLROnPlateau reducing learning rate to 1.6000001778593287e-06.\n",
      "21000/21000 [==============================] - 50s 2ms/sample - loss: 0.1245 - accuracy: 0.9532 - auroc: 0.9771 - aupr: 0.9114 - val_loss: 0.1373 - val_accuracy: 0.9508 - val_auroc: 0.9732 - val_aupr: 0.9124\n",
      "Epoch 53/100\n",
      "21000/21000 [==============================] - 65s 3ms/sample - loss: 0.1243 - accuracy: 0.9536 - auroc: 0.9773 - aupr: 0.9119 - val_loss: 0.1374 - val_accuracy: 0.9508 - val_auroc: 0.9731 - val_aupr: 0.9124\n",
      "Epoch 54/100\n",
      "21000/21000 [==============================] - 52s 2ms/sample - loss: 0.1237 - accuracy: 0.9535 - auroc: 0.9776 - aupr: 0.9123 - val_loss: 0.1371 - val_accuracy: 0.9509 - val_auroc: 0.9732 - val_aupr: 0.9125\n",
      "Epoch 55/100\n",
      "21000/21000 [==============================] - 50s 2ms/sample - loss: 0.1243 - accuracy: 0.9540 - auroc: 0.9772 - aupr: 0.9117 - val_loss: 0.1372 - val_accuracy: 0.9508 - val_auroc: 0.9730 - val_aupr: 0.9124\n",
      "Epoch 56/100\n",
      "21000/21000 [==============================] - 51s 2ms/sample - loss: 0.1254 - accuracy: 0.9535 - auroc: 0.9767 - aupr: 0.9103 - val_loss: 0.1370 - val_accuracy: 0.9511 - val_auroc: 0.9732 - val_aupr: 0.9126\n",
      "Epoch 57/100\n",
      "20800/21000 [============================>.] - ETA: 0s - loss: 0.1243 - accuracy: 0.9537 - auroc: 0.9772 - aupr: 0.9117\n",
      "Epoch 00057: ReduceLROnPlateau reducing learning rate to 3.200000264769187e-07.\n",
      "21000/21000 [==============================] - 51s 2ms/sample - loss: 0.1243 - accuracy: 0.9536 - auroc: 0.9772 - aupr: 0.9117 - val_loss: 0.1371 - val_accuracy: 0.9510 - val_auroc: 0.9733 - val_aupr: 0.9125\n",
      "Epoch 00057: early stopping\n"
     ]
    }
   ],
   "source": [
    "keras.backend.clear_session()\n",
    "\n",
    "model_name = 'cnn-deep'\n",
    "activation = 'exponential'\n",
    "\n",
    "# load model\n",
    "model = helper.load_model(model_name, \n",
    "                          activation=activation, \n",
    "                          input_shape=200)\n",
    "\n",
    "# set up optimizer and metrics\n",
    "auroc = keras.metrics.AUC(curve='ROC', name='auroc')\n",
    "aupr = keras.metrics.AUC(curve='PR', name='aupr')\n",
    "optimizer = keras.optimizers.Adam(learning_rate=0.001)\n",
    "loss = keras.losses.BinaryCrossentropy(from_logits=False, label_smoothing=0)\n",
    "model.compile(optimizer=optimizer,\n",
    "              loss=loss,\n",
    "              metrics=['accuracy', auroc, aupr])\n",
    "\n",
    "es_callback = keras.callbacks.EarlyStopping(monitor='val_auroc', #'val_aupr',#\n",
    "                                            patience=20, \n",
    "                                            verbose=1, \n",
    "                                            mode='max', \n",
    "                                            restore_best_weights=False)\n",
    "reduce_lr = keras.callbacks.ReduceLROnPlateau(monitor='val_auroc', \n",
    "                                              factor=0.2,\n",
    "                                              patience=5, \n",
    "                                              min_lr=1e-7,\n",
    "                                              mode='max',\n",
    "                                              verbose=1) \n",
    "# Define the Gradient Fucntion\n",
    "epoch_gradient = []\n",
    "\n",
    "relu_history = model.fit(x_train, y_train, \n",
    "                         epochs=100,\n",
    "                         batch_size=100, \n",
    "                         shuffle=True,\n",
    "                         validation_data=(x_valid, y_valid), \n",
    "                         callbacks=[es_callback, reduce_lr, GradientCalcCallback()])\n"
   ]
  },
  {
   "cell_type": "code",
   "execution_count": 44,
   "metadata": {
    "scrolled": true
   },
   "outputs": [],
   "source": [
    "relu_grad = []\n",
    "for i in range(len(epoch_gradient)):\n",
    "    relu_grad.append(np.reshape(epoch_gradient[i][0], (-1,)))"
   ]
  },
  {
   "cell_type": "code",
   "execution_count": 45,
   "metadata": {},
   "outputs": [
    {
     "data": {
      "image/png": "[encoded data removed]",
      "text/plain": [
       "<Figure size 432x288 with 1 Axes>"
      ]
     },
     "metadata": {
      "needs_background": "light"
     },
     "output_type": "display_data"
    }
   ],
   "source": [
    "plt.boxplot(relu_grad);\n",
    "plt.xticks([1, 10, 20, 30, 40, 50],[1, 10, 20, 30, 40, 50]);"
   ]
  },
  {
   "cell_type": "code",
   "execution_count": 46,
   "metadata": {},
   "outputs": [
    {
     "data": {
      "text/html": [
       "[<matplotlib.lines.Line2D object at 0x7fc42991c748>]"
      ],
      "text/plain": [
       "[<matplotlib.lines.Line2D at 0x7fc42991c748>]"
      ]
     },
     "execution_count": 46,
     "metadata": {},
     "output_type": "execute_result"
    },
    {
     "data": {
      "image/png": "[encoded data removed]",
      "text/plain": [
       "<Figure size 432x288 with 1 Axes>"
      ]
     },
     "metadata": {
      "needs_background": "light"
     },
     "output_type": "display_data"
    }
   ],
   "source": [
    "plt.figure()\n",
    "plt.plot(relu_history.history['aupr'])\n",
    "plt.plot(relu_history.history['val_aupr'])"
   ]
  },
  {
   "cell_type": "code",
   "execution_count": null,
   "metadata": {},
   "outputs": [],
   "source": [
    "plt.figure()\n",
    "plt.plot(relu_history.history['loss'])\n",
    "plt.plot(relu_history.history['val_loss'])"
   ]
  },
  {
   "cell_type": "code",
   "execution_count": null,
   "metadata": {
    "scrolled": true
   },
   "outputs": [
    {
     "name": "stdout",
     "output_type": "stream",
     "text": [
      "Train on 21000 samples, validate on 3000 samples\n",
      "Epoch 1/100\n",
      "21000/21000 [==============================] - 9s 433us/sample - loss: 0.4820 - accuracy: 0.8327 - auroc: 0.5172 - aupr: 0.1525 - val_loss: 0.4224 - val_accuracy: 0.8557 - val_auroc: 0.5085 - val_aupr: 0.1478\n",
      "Epoch 2/100\n",
      "21000/21000 [==============================] - 9s 422us/sample - loss: 0.4354 - accuracy: 0.8508 - auroc: 0.5521 - aupr: 0.1724 - val_loss: 0.4223 - val_accuracy: 0.8557 - val_auroc: 0.5373 - val_aupr: 0.1678\n",
      "Epoch 3/100\n",
      "21000/21000 [==============================] - 10s 459us/sample - loss: 0.3956 - accuracy: 0.8620 - auroc: 0.6343 - aupr: 0.2907 - val_loss: 0.3529 - val_accuracy: 0.8771 - val_auroc: 0.6912 - val_aupr: 0.3842\n",
      "Epoch 4/100\n",
      "21000/21000 [==============================] - 10s 489us/sample - loss: 0.3605 - accuracy: 0.8741 - auroc: 0.6971 - aupr: 0.3933 - val_loss: 0.3576 - val_accuracy: 0.8759 - val_auroc: 0.6842 - val_aupr: 0.3810\n",
      "Epoch 5/100\n",
      "21000/21000 [==============================] - 11s 523us/sample - loss: 0.3465 - accuracy: 0.8778 - auroc: 0.7271 - aupr: 0.4332 - val_loss: 0.3486 - val_accuracy: 0.8780 - val_auroc: 0.7120 - val_aupr: 0.4160\n",
      "Epoch 6/100\n",
      "21000/21000 [==============================] - 12s 563us/sample - loss: 0.3334 - accuracy: 0.8813 - auroc: 0.7569 - aupr: 0.4776 - val_loss: 0.3400 - val_accuracy: 0.8804 - val_auroc: 0.7435 - val_aupr: 0.4626\n",
      "Epoch 7/100\n",
      "21000/21000 [==============================] - 13s 598us/sample - loss: 0.3103 - accuracy: 0.8893 - auroc: 0.8029 - aupr: 0.5487 - val_loss: 0.3132 - val_accuracy: 0.8870 - val_auroc: 0.8027 - val_aupr: 0.5362\n",
      "Epoch 8/100\n",
      "21000/21000 [==============================] - 13s 634us/sample - loss: 0.2982 - accuracy: 0.8923 - auroc: 0.8249 - aupr: 0.5848 - val_loss: 0.3065 - val_accuracy: 0.8902 - val_auroc: 0.8147 - val_aupr: 0.5659\n",
      "Epoch 9/100\n",
      "21000/21000 [==============================] - 14s 680us/sample - loss: 0.2779 - accuracy: 0.9010 - auroc: 0.8512 - aupr: 0.6370 - val_loss: 0.2820 - val_accuracy: 0.8987 - val_auroc: 0.8516 - val_aupr: 0.6241\n",
      "Epoch 10/100\n",
      "21000/21000 [==============================] - 15s 706us/sample - loss: 0.2646 - accuracy: 0.9060 - auroc: 0.8678 - aupr: 0.6680 - val_loss: 0.2660 - val_accuracy: 0.9027 - val_auroc: 0.8689 - val_aupr: 0.6632\n",
      "Epoch 11/100\n",
      "21000/21000 [==============================] - 16s 761us/sample - loss: 0.2501 - accuracy: 0.9113 - auroc: 0.8849 - aupr: 0.7026 - val_loss: 0.2437 - val_accuracy: 0.9109 - val_auroc: 0.8947 - val_aupr: 0.7133\n",
      "Epoch 12/100\n",
      "21000/21000 [==============================] - 17s 823us/sample - loss: 0.2381 - accuracy: 0.9163 - auroc: 0.8968 - aupr: 0.7290 - val_loss: 0.2464 - val_accuracy: 0.9083 - val_auroc: 0.8965 - val_aupr: 0.7203\n",
      "Epoch 13/100\n",
      "21000/21000 [==============================] - 20s 952us/sample - loss: 0.2315 - accuracy: 0.9183 - auroc: 0.9040 - aupr: 0.7430 - val_loss: 0.2370 - val_accuracy: 0.9098 - val_auroc: 0.9073 - val_aupr: 0.7352\n",
      "Epoch 14/100\n",
      "21000/21000 [==============================] - 25s 1ms/sample - loss: 0.2257 - accuracy: 0.9200 - auroc: 0.9098 - aupr: 0.7543 - val_loss: 0.2332 - val_accuracy: 0.9112 - val_auroc: 0.9150 - val_aupr: 0.7546\n",
      "Epoch 15/100\n",
      "21000/21000 [==============================] - 30s 1ms/sample - loss: 0.2212 - accuracy: 0.9210 - auroc: 0.9146 - aupr: 0.7639 - val_loss: 0.2354 - val_accuracy: 0.9095 - val_auroc: 0.9156 - val_aupr: 0.7583\n",
      "Epoch 16/100\n",
      "21000/21000 [==============================] - 26s 1ms/sample - loss: 0.2157 - accuracy: 0.9223 - auroc: 0.9206 - aupr: 0.7749 - val_loss: 0.3041 - val_accuracy: 0.8633 - val_auroc: 0.8642 - val_aupr: 0.5548\n",
      "Epoch 17/100\n",
      "21000/21000 [==============================] - 27s 1ms/sample - loss: 0.1998 - accuracy: 0.9289 - auroc: 0.9324 - aupr: 0.8059 - val_loss: 0.2034 - val_accuracy: 0.9238 - val_auroc: 0.9375 - val_aupr: 0.8076\n",
      "Epoch 18/100\n",
      "21000/21000 [==============================] - 26s 1ms/sample - loss: 0.1964 - accuracy: 0.9306 - auroc: 0.9345 - aupr: 0.8112 - val_loss: 0.2067 - val_accuracy: 0.9215 - val_auroc: 0.9369 - val_aupr: 0.8061\n",
      "Epoch 19/100\n",
      "21000/21000 [==============================] - 35s 2ms/sample - loss: 0.1926 - accuracy: 0.9322 - auroc: 0.9375 - aupr: 0.8179 - val_loss: 0.2063 - val_accuracy: 0.9191 - val_auroc: 0.9392 - val_aupr: 0.8103\n",
      "Epoch 20/100\n",
      "21000/21000 [==============================] - 23s 1ms/sample - loss: 0.1903 - accuracy: 0.9322 - auroc: 0.9396 - aupr: 0.8213 - val_loss: 0.2014 - val_accuracy: 0.9226 - val_auroc: 0.9402 - val_aupr: 0.8121\n",
      "Epoch 21/100\n",
      "21000/21000 [==============================] - 24s 1ms/sample - loss: 0.1881 - accuracy: 0.9326 - auroc: 0.9415 - aupr: 0.8252 - val_loss: 0.2058 - val_accuracy: 0.9219 - val_auroc: 0.9374 - val_aupr: 0.8081\n",
      "Epoch 22/100\n",
      "21000/21000 [==============================] - 25s 1ms/sample - loss: 0.1808 - accuracy: 0.9355 - auroc: 0.9462 - aupr: 0.8380 - val_loss: 0.2489 - val_accuracy: 0.8966 - val_auroc: 0.9159 - val_aupr: 0.6836\n",
      "Epoch 23/100\n",
      "21000/21000 [==============================] - 25s 1ms/sample - loss: 0.1709 - accuracy: 0.9399 - auroc: 0.9509 - aupr: 0.8538 - val_loss: 0.1816 - val_accuracy: 0.9309 - val_auroc: 0.9539 - val_aupr: 0.8518\n",
      "Epoch 24/100\n",
      "21000/21000 [==============================] - 26s 1ms/sample - loss: 0.1672 - accuracy: 0.9409 - auroc: 0.9534 - aupr: 0.8593 - val_loss: 0.1823 - val_accuracy: 0.9314 - val_auroc: 0.9522 - val_aupr: 0.8539\n",
      "Epoch 25/100\n",
      "21000/21000 [==============================] - 26s 1ms/sample - loss: 0.1666 - accuracy: 0.9415 - auroc: 0.9537 - aupr: 0.8598 - val_loss: 0.1744 - val_accuracy: 0.9332 - val_auroc: 0.9585 - val_aupr: 0.8655\n",
      "Epoch 26/100\n",
      "21000/21000 [==============================] - 29s 1ms/sample - loss: 0.1634 - accuracy: 0.9424 - auroc: 0.9558 - aupr: 0.8642 - val_loss: 0.1797 - val_accuracy: 0.9316 - val_auroc: 0.9563 - val_aupr: 0.8594\n",
      "Epoch 27/100\n",
      "21000/21000 [==============================] - 30s 1ms/sample - loss: 0.1630 - accuracy: 0.9425 - auroc: 0.9560 - aupr: 0.8654 - val_loss: 0.1753 - val_accuracy: 0.9337 - val_auroc: 0.9593 - val_aupr: 0.8670\n",
      "Epoch 28/100\n",
      "21000/21000 [==============================] - 49s 2ms/sample - loss: 0.1604 - accuracy: 0.9430 - auroc: 0.9575 - aupr: 0.8684 - val_loss: 0.1730 - val_accuracy: 0.9349 - val_auroc: 0.9578 - val_aupr: 0.8682\n",
      "Epoch 29/100\n",
      "21000/21000 [==============================] - 32s 2ms/sample - loss: 0.1591 - accuracy: 0.9433 - auroc: 0.9582 - aupr: 0.8705 - val_loss: 0.1746 - val_accuracy: 0.9339 - val_auroc: 0.9584 - val_aupr: 0.8710\n",
      "Epoch 30/100\n",
      "21000/21000 [==============================] - 32s 2ms/sample - loss: 0.1574 - accuracy: 0.9438 - auroc: 0.9591 - aupr: 0.8735 - val_loss: 0.1682 - val_accuracy: 0.9356 - val_auroc: 0.9610 - val_aupr: 0.8778\n",
      "Epoch 31/100\n",
      "21000/21000 [==============================] - 32s 2ms/sample - loss: 0.1560 - accuracy: 0.9450 - auroc: 0.9591 - aupr: 0.8757 - val_loss: 0.1658 - val_accuracy: 0.9383 - val_auroc: 0.9621 - val_aupr: 0.8835\n",
      "Epoch 32/100\n",
      "21000/21000 [==============================] - 33s 2ms/sample - loss: 0.1545 - accuracy: 0.9455 - auroc: 0.9599 - aupr: 0.8777 - val_loss: 0.1637 - val_accuracy: 0.9377 - val_auroc: 0.9651 - val_aupr: 0.8912\n",
      "Epoch 33/100\n",
      "21000/21000 [==============================] - 34s 2ms/sample - loss: 0.1511 - accuracy: 0.9462 - auroc: 0.9619 - aupr: 0.8814 - val_loss: 0.1593 - val_accuracy: 0.9397 - val_auroc: 0.9660 - val_aupr: 0.8941\n",
      "Epoch 34/100\n",
      "21000/21000 [==============================] - 36s 2ms/sample - loss: 0.1498 - accuracy: 0.9471 - auroc: 0.9620 - aupr: 0.8838 - val_loss: 0.1568 - val_accuracy: 0.9416 - val_auroc: 0.9655 - val_aupr: 0.8955\n",
      "Epoch 35/100\n",
      "21000/21000 [==============================] - 37s 2ms/sample - loss: 0.1480 - accuracy: 0.9479 - auroc: 0.9629 - aupr: 0.8861 - val_loss: 0.1607 - val_accuracy: 0.9385 - val_auroc: 0.9644 - val_aupr: 0.8946\n",
      "Epoch 36/100\n",
      "21000/21000 [==============================] - 38s 2ms/sample - loss: 0.1458 - accuracy: 0.9490 - auroc: 0.9641 - aupr: 0.8879 - val_loss: 0.1519 - val_accuracy: 0.9428 - val_auroc: 0.9694 - val_aupr: 0.9017\n",
      "Epoch 37/100\n",
      "21000/21000 [==============================] - 39s 2ms/sample - loss: 0.1441 - accuracy: 0.9491 - auroc: 0.9646 - aupr: 0.8915 - val_loss: 0.1560 - val_accuracy: 0.9422 - val_auroc: 0.9647 - val_aupr: 0.8964\n"
     ]
    },
    {
     "name": "stdout",
     "output_type": "stream",
     "text": [
      "Epoch 38/100\n",
      "21000/21000 [==============================] - 56s 3ms/sample - loss: 0.1441 - accuracy: 0.9499 - auroc: 0.9644 - aupr: 0.8911 - val_loss: 0.1476 - val_accuracy: 0.9457 - val_auroc: 0.9694 - val_aupr: 0.9068\n",
      "Epoch 39/100\n",
      "21000/21000 [==============================] - 60s 3ms/sample - loss: 0.1422 - accuracy: 0.9505 - auroc: 0.9652 - aupr: 0.8936 - val_loss: 0.1452 - val_accuracy: 0.9456 - val_auroc: 0.9717 - val_aupr: 0.9088\n",
      "Epoch 40/100\n",
      "21000/21000 [==============================] - 59s 3ms/sample - loss: 0.1408 - accuracy: 0.9509 - auroc: 0.9660 - aupr: 0.8962 - val_loss: 0.1482 - val_accuracy: 0.9449 - val_auroc: 0.9697 - val_aupr: 0.9053\n",
      "Epoch 41/100\n",
      "21000/21000 [==============================] - 44s 2ms/sample - loss: 0.1389 - accuracy: 0.9522 - auroc: 0.9665 - aupr: 0.8983 - val_loss: 0.1488 - val_accuracy: 0.9439 - val_auroc: 0.9691 - val_aupr: 0.9049\n",
      "Epoch 42/100\n",
      "21000/21000 [==============================] - 44s 2ms/sample - loss: 0.1392 - accuracy: 0.9519 - auroc: 0.9663 - aupr: 0.8979 - val_loss: 0.1433 - val_accuracy: 0.9482 - val_auroc: 0.9721 - val_aupr: 0.9109\n",
      "Epoch 43/100\n",
      "21000/21000 [==============================] - 44s 2ms/sample - loss: 0.1379 - accuracy: 0.9520 - auroc: 0.9671 - aupr: 0.8996 - val_loss: 0.1505 - val_accuracy: 0.9442 - val_auroc: 0.9673 - val_aupr: 0.8979\n",
      "Epoch 44/100\n",
      "21000/21000 [==============================] - 45s 2ms/sample - loss: 0.1364 - accuracy: 0.9526 - auroc: 0.9681 - aupr: 0.9010 - val_loss: 0.1436 - val_accuracy: 0.9474 - val_auroc: 0.9714 - val_aupr: 0.9073\n",
      "Epoch 45/100\n",
      "21000/21000 [==============================] - 47s 2ms/sample - loss: 0.1366 - accuracy: 0.9526 - auroc: 0.9680 - aupr: 0.9014 - val_loss: 0.1421 - val_accuracy: 0.9488 - val_auroc: 0.9732 - val_aupr: 0.9112\n",
      "Epoch 46/100\n",
      "21000/21000 [==============================] - 50s 2ms/sample - loss: 0.1358 - accuracy: 0.9531 - auroc: 0.9683 - aupr: 0.9022 - val_loss: 0.1447 - val_accuracy: 0.9461 - val_auroc: 0.9713 - val_aupr: 0.9116\n",
      "Epoch 47/100\n",
      "21000/21000 [==============================] - 52s 2ms/sample - loss: 0.1339 - accuracy: 0.9537 - auroc: 0.9693 - aupr: 0.9042 - val_loss: 0.1428 - val_accuracy: 0.9482 - val_auroc: 0.9711 - val_aupr: 0.9068\n",
      "Epoch 48/100\n",
      "21000/21000 [==============================] - 53s 3ms/sample - loss: 0.1347 - accuracy: 0.9532 - auroc: 0.9687 - aupr: 0.9036 - val_loss: 0.1410 - val_accuracy: 0.9488 - val_auroc: 0.9733 - val_aupr: 0.9117\n",
      "Epoch 49/100\n",
      "21000/21000 [==============================] - 54s 3ms/sample - loss: 0.1335 - accuracy: 0.9533 - auroc: 0.9694 - aupr: 0.9053 - val_loss: 0.1423 - val_accuracy: 0.9479 - val_auroc: 0.9724 - val_aupr: 0.9122\n",
      "Epoch 50/100\n",
      "20900/21000 [============================>.] - ETA: 0s - loss: 0.1335 - accuracy: 0.9541 - auroc: 0.9694 - aupr: 0.9056\n",
      "Epoch 00050: ReduceLROnPlateau reducing learning rate to 0.00020000000949949026.\n",
      "21000/21000 [==============================] - 61s 3ms/sample - loss: 0.1334 - accuracy: 0.9541 - auroc: 0.9695 - aupr: 0.9056 - val_loss: 0.1412 - val_accuracy: 0.9485 - val_auroc: 0.9723 - val_aupr: 0.9126\n",
      "Epoch 51/100\n",
      "21000/21000 [==============================] - 74s 4ms/sample - loss: 0.1288 - accuracy: 0.9553 - auroc: 0.9718 - aupr: 0.9112 - val_loss: 0.1446 - val_accuracy: 0.9479 - val_auroc: 0.9714 - val_aupr: 0.9130\n",
      "Epoch 52/100\n",
      "21000/21000 [==============================] - 78s 4ms/sample - loss: 0.1269 - accuracy: 0.9560 - auroc: 0.9728 - aupr: 0.9133 - val_loss: 0.1435 - val_accuracy: 0.9478 - val_auroc: 0.9725 - val_aupr: 0.9122\n",
      "Epoch 53/100\n",
      "21000/21000 [==============================] - 60s 3ms/sample - loss: 0.1269 - accuracy: 0.9560 - auroc: 0.9721 - aupr: 0.9134 - val_loss: 0.1450 - val_accuracy: 0.9470 - val_auroc: 0.9712 - val_aupr: 0.9113\n",
      "Epoch 54/100\n",
      "21000/21000 [==============================] - 81s 4ms/sample - loss: 0.1268 - accuracy: 0.9567 - auroc: 0.9727 - aupr: 0.9133 - val_loss: 0.1445 - val_accuracy: 0.9477 - val_auroc: 0.9711 - val_aupr: 0.9126\n",
      "Epoch 55/100\n",
      "20800/21000 [============================>.] - ETA: 0s - loss: 0.1267 - accuracy: 0.9564 - auroc: 0.9727 - aupr: 0.9138\n",
      "Epoch 00055: ReduceLROnPlateau reducing learning rate to 4.0000001899898055e-05.\n",
      "21000/21000 [==============================] - 59s 3ms/sample - loss: 0.1265 - accuracy: 0.9564 - auroc: 0.9728 - aupr: 0.9139 - val_loss: 0.1439 - val_accuracy: 0.9478 - val_auroc: 0.9712 - val_aupr: 0.9129\n",
      "Epoch 56/100\n",
      "21000/21000 [==============================] - 60s 3ms/sample - loss: 0.1238 - accuracy: 0.9574 - auroc: 0.9738 - aupr: 0.9171 - val_loss: 0.1437 - val_accuracy: 0.9475 - val_auroc: 0.9716 - val_aupr: 0.9135\n",
      "Epoch 57/100\n",
      "21000/21000 [==============================] - 62s 3ms/sample - loss: 0.1257 - accuracy: 0.9566 - auroc: 0.9729 - aupr: 0.9152 - val_loss: 0.1437 - val_accuracy: 0.9478 - val_auroc: 0.9714 - val_aupr: 0.9133\n",
      "Epoch 58/100\n",
      "21000/21000 [==============================] - 62s 3ms/sample - loss: 0.1239 - accuracy: 0.9574 - auroc: 0.9735 - aupr: 0.9173 - val_loss: 0.1438 - val_accuracy: 0.9480 - val_auroc: 0.9714 - val_aupr: 0.9130\n",
      "Epoch 59/100\n",
      "21000/21000 [==============================] - 63s 3ms/sample - loss: 0.1235 - accuracy: 0.9571 - auroc: 0.9740 - aupr: 0.9172 - val_loss: 0.1435 - val_accuracy: 0.9482 - val_auroc: 0.9714 - val_aupr: 0.9133\n",
      "Epoch 60/100\n",
      "20800/21000 [============================>.] - ETA: 0s - loss: 0.1243 - accuracy: 0.9572 - auroc: 0.9735 - aupr: 0.9165\n",
      "Epoch 00060: ReduceLROnPlateau reducing learning rate to 8.000000525498762e-06.\n",
      "21000/21000 [==============================] - 63s 3ms/sample - loss: 0.1242 - accuracy: 0.9573 - auroc: 0.9736 - aupr: 0.9166 - val_loss: 0.1436 - val_accuracy: 0.9482 - val_auroc: 0.9715 - val_aupr: 0.9135\n",
      "Epoch 61/100\n",
      "21000/21000 [==============================] - 64s 3ms/sample - loss: 0.1242 - accuracy: 0.9572 - auroc: 0.9734 - aupr: 0.9170 - val_loss: 0.1436 - val_accuracy: 0.9484 - val_auroc: 0.9714 - val_aupr: 0.9135\n",
      "Epoch 62/100\n",
      "21000/21000 [==============================] - 65s 3ms/sample - loss: 0.1235 - accuracy: 0.9573 - auroc: 0.9739 - aupr: 0.9177 - val_loss: 0.1437 - val_accuracy: 0.9482 - val_auroc: 0.9713 - val_aupr: 0.9134\n",
      "Epoch 63/100\n",
      "21000/21000 [==============================] - 67s 3ms/sample - loss: 0.1228 - accuracy: 0.9578 - auroc: 0.9740 - aupr: 0.9188 - val_loss: 0.1438 - val_accuracy: 0.9480 - val_auroc: 0.9716 - val_aupr: 0.9134\n",
      "Epoch 64/100\n",
      "21000/21000 [==============================] - 64s 3ms/sample - loss: 0.1240 - accuracy: 0.9573 - auroc: 0.9739 - aupr: 0.9169 - val_loss: 0.1439 - val_accuracy: 0.9479 - val_auroc: 0.9713 - val_aupr: 0.9132\n",
      "Epoch 65/100\n",
      "20900/21000 [============================>.] - ETA: 0s - loss: 0.1239 - accuracy: 0.9575 - auroc: 0.9734 - aupr: 0.9169\n",
      "Epoch 00065: ReduceLROnPlateau reducing learning rate to 1.6000001778593287e-06.\n",
      "21000/21000 [==============================] - 68s 3ms/sample - loss: 0.1239 - accuracy: 0.9575 - auroc: 0.9734 - aupr: 0.9169 - val_loss: 0.1436 - val_accuracy: 0.9483 - val_auroc: 0.9715 - val_aupr: 0.9135\n",
      "Epoch 66/100\n",
      "20800/21000 [============================>.] - ETA: 0s - loss: 0.1236 - accuracy: 0.9572 - auroc: 0.9739 - aupr: 0.9170"
     ]
    }
   ],
   "source": [
    "keras.backend.clear_session()\n",
    "\n",
    "model_name = 'cnn-deep'\n",
    "activation = 'exponential'\n",
    "\n",
    "# load model\n",
    "model = helper.load_model(model_name, \n",
    "                                activation=activation, \n",
    "                                input_shape=200)\n",
    "\n",
    "# set up optimizer and metrics\n",
    "auroc = keras.metrics.AUC(curve='ROC', name='auroc')\n",
    "aupr = keras.metrics.AUC(curve='PR', name='aupr')\n",
    "optimizer = keras.optimizers.Adam(learning_rate=0.001)\n",
    "loss = keras.losses.BinaryCrossentropy(from_logits=False, label_smoothing=0)\n",
    "model.compile(optimizer=optimizer,\n",
    "              loss=loss,\n",
    "              metrics=['accuracy', auroc, aupr])\n",
    "\n",
    "es_callback = keras.callbacks.EarlyStopping(monitor='val_auroc', #'val_aupr',#\n",
    "                                            patience=20, \n",
    "                                            verbose=1, \n",
    "                                            mode='max', \n",
    "                                            restore_best_weights=False)\n",
    "reduce_lr = keras.callbacks.ReduceLROnPlateau(monitor='val_auroc', \n",
    "                                              factor=0.2,\n",
    "                                              patience=5, \n",
    "                                              min_lr=1e-7,\n",
    "                                              mode='max',\n",
    "                                              verbose=1) \n",
    "# Define the Gradient Fucntion\n",
    "epoch_gradient = []\n",
    "\n",
    "exp_history = model.fit(x_train, y_train, \n",
    "                         epochs=100,\n",
    "                         batch_size=100, \n",
    "                         shuffle=True,\n",
    "                         validation_data=(x_valid, y_valid), \n",
    "                         callbacks=[es_callback, reduce_lr, GradientCalcCallback()])\n"
   ]
  },
  {
   "cell_type": "code",
   "execution_count": null,
   "metadata": {
    "scrolled": true
   },
   "outputs": [],
   "source": [
    "exp_grad = []\n",
    "for i in range(len(epoch_gradient)):\n",
    "    exp_grad.append(np.reshape(epoch_gradient[i][0], (-1,)))"
   ]
  },
  {
   "cell_type": "code",
   "execution_count": null,
   "metadata": {},
   "outputs": [],
   "source": [
    "plt.boxplot(exp_grad);\n",
    "plt.xticks([1, 10, 20, 30, 40, 50],[1, 10, 20, 30, 40, 50]);"
   ]
  },
  {
   "cell_type": "code",
   "execution_count": null,
   "metadata": {},
   "outputs": [],
   "source": [
    "plt.figure()\n",
    "plt.plot(exp_history.history['aupr'])\n",
    "plt.plot(exp_history.history['val_aupr'])"
   ]
  },
  {
   "cell_type": "code",
   "execution_count": null,
   "metadata": {},
   "outputs": [],
   "source": [
    "plt.figure()\n",
    "plt.plot(exp_history.history['loss'])\n",
    "plt.plot(exp_history.history['val_loss'])"
   ]
  },
  {
   "cell_type": "code",
   "execution_count": null,
   "metadata": {},
   "outputs": [],
   "source": []
  },
  {
   "cell_type": "code",
   "execution_count": null,
   "metadata": {},
   "outputs": [],
   "source": []
  },
  {
   "cell_type": "code",
   "execution_count": null,
   "metadata": {},
   "outputs": [],
   "source": []
  },
  {
   "cell_type": "code",
   "execution_count": null,
   "metadata": {},
   "outputs": [],
   "source": []
  },
  {
   "cell_type": "code",
   "execution_count": null,
   "metadata": {},
   "outputs": [],
   "source": []
  },
  {
   "cell_type": "code",
   "execution_count": null,
   "metadata": {},
   "outputs": [],
   "source": []
  },
  {
   "cell_type": "code",
   "execution_count": 18,
   "metadata": {},
   "outputs": [],
   "source": [
    "grad = []\n",
    "for i in range(len(epoch_gradient)):\n",
    "    grad.append(np.reshape(epoch_gradient[i][0], (-1,)))"
   ]
  },
  {
   "cell_type": "code",
   "execution_count": 25,
   "metadata": {},
   "outputs": [
    {
     "data": {
      "text/plain": [
       "([<matplotlib.axis.XTick at 0x7fc5788b4e48>,\n",
       "  <matplotlib.axis.XTick at 0x7fc5788b4e10>,\n",
       "  <matplotlib.axis.XTick at 0x7fc57899cfd0>,\n",
       "  <matplotlib.axis.XTick at 0x7fc5788c5710>,\n",
       "  <matplotlib.axis.XTick at 0x7fc578479c18>,\n",
       "  <matplotlib.axis.XTick at 0x7fc5788df160>],\n",
       " [Text(0, 0, '1'),\n",
       "  Text(0, 0, '10'),\n",
       "  Text(0, 0, '20'),\n",
       "  Text(0, 0, '30'),\n",
       "  Text(0, 0, '40'),\n",
       "  Text(0, 0, '50')])"
      ]
     },
     "execution_count": 25,
     "metadata": {},
     "output_type": "execute_result"
    },
    {
     "data": {
      "image/png": "[encoded data removed]",
      "text/plain": [
       "<Figure size 432x288 with 1 Axes>"
      ]
     },
     "metadata": {
      "needs_background": "light"
     },
     "output_type": "display_data"
    }
   ],
   "source": [
    "plt.boxplot(grad);\n",
    "plt.xticks([1, 10, 20, 30, 40, 50],[1, 10, 20, 30, 40, 50]);\n"
   ]
  },
  {
   "cell_type": "code",
   "execution_count": 42,
   "metadata": {},
   "outputs": [
    {
     "data": {
      "text/html": [
       "[<matplotlib.lines.Line2D object at 0x7fc577daf0f0>]"
      ],
      "text/plain": [
       "[<matplotlib.lines.Line2D at 0x7fc577daf0f0>]"
      ]
     },
     "execution_count": 42,
     "metadata": {},
     "output_type": "execute_result"
    },
    {
     "data": {
      "image/png": "[encoded data removed]",
      "text/plain": [
       "<Figure size 432x288 with 1 Axes>"
      ]
     },
     "metadata": {
      "needs_background": "light"
     },
     "output_type": "display_data"
    }
   ],
   "source": [
    "plt.figure()\n",
    "plt.plot(history.history['aupr'])\n",
    "plt.plot(history.history['val_aupr'])"
   ]
  },
  {
   "cell_type": "code",
   "execution_count": null,
   "metadata": {},
   "outputs": [],
   "source": []
  },
  {
   "cell_type": "code",
   "execution_count": null,
   "metadata": {},
   "outputs": [],
   "source": []
  },
  {
   "cell_type": "code",
   "execution_count": null,
   "metadata": {},
   "outputs": [],
   "source": []
  }
 ],
 "metadata": {
  "kernelspec": {
   "display_name": "Python 3",
   "language": "python",
   "name": "python3"
  },
  "language_info": {
   "codemirror_mode": {
    "name": "ipython",
    "version": 3
   },
   "file_extension": ".py",
   "mimetype": "text/x-python",
   "name": "python",
   "nbconvert_exporter": "python",
   "pygments_lexer": "ipython3",
   "version": "3.7.0b3"
  }
 },
 "nbformat": 4,
 "nbformat_minor": 4
}
