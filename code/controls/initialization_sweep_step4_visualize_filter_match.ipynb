{
 "cells": [
  {
   "cell_type": "markdown",
   "metadata": {},
   "source": [
    "# This notebook plots filter match results for normal initializations with varying standard deviations (Supplementary Fig. 5b)"
   ]
  },
  {
   "cell_type": "code",
   "execution_count": null,
   "metadata": {},
   "outputs": [],
   "source": [
    "import os\n",
    "import numpy as np\n",
    "from six.moves import cPickle\n",
    "import matplotlib.pyplot as plt\n",
    "%matplotlib inline"
   ]
  },
  {
   "cell_type": "code",
   "execution_count": null,
   "metadata": {},
   "outputs": [],
   "source": [
    "\n",
    "sigmas = [0.001, 0.005, 0.01, 0.05, 0.1, 0.2, 0.3, 0.4, 0.5, 0.75, 1.0, 2.0, 3, 4, 5]\n",
    "activations = ['relu', 'exp']\n",
    "activation_names = ['Relu', 'Exponential']\n",
    "\n",
    "\n",
    "results_path = os.path.join('../../results', 'initialization_sweep')\n",
    "file_path = os.path.join(results_path, 'intialization_sweep_filter_results.pickle')\n",
    "with open(file_path, 'rb') as f:\n",
    "    results = cPickle.load(f)\n",
    "    \n",
    "    \n",
    "fig = plt.figure(figsize=(13,6))\n",
    "ax = plt.subplot(2,1,1)\n",
    "vals = []\n",
    "for thresh in sigmas:\n",
    "    vals.append(results['relu'][thresh]['match_fraction'])\n",
    "ax.boxplot(vals);\n",
    "ax.set_xticklabels([])\n",
    "plt.ylabel('Match fraction', fontsize=14)\n",
    "plt.yticks([0, 0.25, 0.5, 0.75, 1.0], fontsize=14)\n",
    "plt.ylim([-0.04,1.04])\n",
    "ax.yaxis.tick_right()\n",
    "ax2 = ax.twinx()\n",
    "ax2.set_yticks([])\n",
    "ax2.set_ylabel('CNN-deep (Relu)', fontsize=14)\n",
    "\n",
    "ax = plt.subplot(2,1,2)\n",
    "vals = []\n",
    "for thresh in sigmas:\n",
    "    vals.append(results['exp'][thresh]['match_fraction'])\n",
    "ax.boxplot(vals);\n",
    "ax.set_xticklabels([])\n",
    "plt.ylabel('Match fraction', fontsize=14)\n",
    "plt.yticks([0, 0.25, 0.5, 0.75, 1.0], fontsize=14)\n",
    "plt.ylim([-0.04,1.04])\n",
    "ax.set_xticklabels([])\n",
    "ax.yaxis.tick_right()\n",
    "ax2 = ax.twinx()\n",
    "ax2.set_yticks([])\n",
    "ax2.set_ylabel('CNN-deep (Exp)', fontsize=14)\n",
    "        \n",
    "outfile = os.path.join(results_path, 'filter_thresh.pdf')\n",
    "fig.savefig(outfile, format='pdf', dpi=200, bbox_inches='tight')\n",
    "\n"
   ]
  },
  {
   "cell_type": "code",
   "execution_count": null,
   "metadata": {},
   "outputs": [],
   "source": []
  }
 ],
 "metadata": {
  "kernelspec": {
   "display_name": "Python 3",
   "language": "python",
   "name": "python3"
  },
  "language_info": {
   "codemirror_mode": {
    "name": "ipython",
    "version": 3
   },
   "file_extension": ".py",
   "mimetype": "text/x-python",
   "name": "python",
   "nbconvert_exporter": "python",
   "pygments_lexer": "ipython3",
   "version": "3.7.0b3"
  }
 },
 "nbformat": 4,
 "nbformat_minor": 4
}
